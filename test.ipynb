{
 "cells": [
  {
   "cell_type": "code",
   "execution_count": null,
   "id": "320bb99f",
   "metadata": {},
   "outputs": [],
   "source": [
    "import json\n",
    "import urllib.request\n",
    "import re\n",
    "import pandas as pd"
   ]
  },
  {
   "cell_type": "code",
   "execution_count": null,
   "id": "4a6eb7c7",
   "metadata": {},
   "outputs": [],
   "source": [
    "def get_json(title):\n",
    "  baseurl = \"https://marvel.fandom.com/api.php?\"\n",
    "  action = \"action=query\"\n",
    "  title = \"titles={}\".format(title.replace(\" \", \"_\"))\n",
    "  content = \"prop=revisions&rvprop=content&rvslots=*\"\n",
    "  dataformat =\"format=json\"\n",
    "\n",
    "  query = \"{}{}&{}&{}&{}\".format(baseurl, action, content, title, dataformat)\n",
    "    \n",
    "  wikiresponse = urllib.request.urlopen(query)\n",
    "  wikidata = wikiresponse.read()\n",
    "  wikitext = wikidata.decode('utf-8')\n",
    "\n",
    "\n",
    "  return json.loads(wikitext)\n",
    "\n",
    "def displayWiki(wiki):\n",
    "    code = str(list(wiki[\"query\"][\"pages\"].keys())[0])\n",
    "    title = wiki[\"query\"][\"pages\"][code][\"title\"]\n",
    "    content = wiki[\"query\"][\"pages\"][code][\"revisions\"][0][\"slots\"][\"main\"][\"*\"]\n",
    "    return title, content"
   ]
  },
  {
   "cell_type": "code",
   "execution_count": null,
   "id": "35f26607",
   "metadata": {},
   "outputs": [],
   "source": [
    "teams = None\n",
    "with open(\"teams.txt\", \"r\") as f:\n",
    "  teams = f.read().split(\"\\n\")[:-1]\n",
    "teams"
   ]
  },
  {
   "cell_type": "code",
   "execution_count": null,
   "id": "30cebfca",
   "metadata": {},
   "outputs": [],
   "source": [
    "regex_links = r\"\\[\\[(.*?)(?:|\\|.*?)\\]\\]\""
   ]
  },
  {
   "cell_type": "code",
   "execution_count": null,
   "id": "74e8854e",
   "metadata": {},
   "outputs": [],
   "source": [
    "def createDataFrame(teams):\n",
    "  df = pd.DataFrame(columns=[\"team_name\", \"leaders\", \"current_members\", \"former_members\", \"allies\", \"enemies\"])\n",
    "  \n",
    "  for team in teams:\n",
    "    content = displayWiki(get_json(team))[1]\n",
    "    header = re.split(r\"\\| First\", content)[0]\n",
    "\n",
    "    name = re.sub(\" \\(Earth-.*\", \"\", team)\n",
    "    \n",
    "    leaders_raw = re.findall(r\"Leaders.*?\\| CurrentMembers\", header, flags=re.DOTALL)[0]\n",
    "    leaders = re.findall(regex_links, leaders_raw)\n",
    "\n",
    "    current_member_raw = re.findall(r\"\\| CurrentMembers.*?\\| FormerMembers\", header, flags=re.DOTALL)[0]\n",
    "    current_member = re.findall(regex_links, current_member_raw)\n",
    "\n",
    "    former_member_raw = re.findall(r\"\\| FormerMembers.*?\\| Allies\", header, flags=re.DOTALL)[0]\n",
    "    former_member = re.findall(regex_links, former_member_raw)\n",
    "\n",
    "    allies_raw = re.findall(r\"\\| Allies.*?\\| Enemies\", header, flags=re.DOTALL)[0]\n",
    "    allies = re.findall(regex_links, allies_raw)\n",
    "\n",
    "    enemies_raw = re.findall(r\"\\| Enemies.*?\\| Origin\", header, flags=re.DOTALL)[0]\n",
    "    enemies = re.findall(regex_links, enemies_raw)\n",
    "\n",
    "    row = {\n",
    "      \"team_name\"      : name,\n",
    "      \"leaders\"        : leaders,\n",
    "      \"current_members\": current_member,\n",
    "      \"former_members\" : former_member,\n",
    "      \"allies\"         : allies,\n",
    "      \"enemies\"        : enemies\n",
    "    }\n",
    "    \n",
    "    df = df.append(row, ignore_index=True)\n",
    "  \n",
    "  return df"
   ]
  },
  {
   "cell_type": "code",
   "execution_count": null,
   "id": "747c49b4",
   "metadata": {},
   "outputs": [],
   "source": [
    "marvel_df = createDataFrame(teams)\n",
    "marvel_df.head()"
   ]
  },
  {
   "cell_type": "code",
   "execution_count": null,
   "id": "86f82d4e",
   "metadata": {},
   "outputs": [],
   "source": [
    "marvel_df.to_csv(\"marvel_teams.csv\")"
   ]
  }
 ],
 "metadata": {
  "kernelspec": {
   "display_name": "Python 3 (ipykernel)",
   "language": "python",
   "name": "python3"
  },
  "language_info": {
   "codemirror_mode": {
    "name": "ipython",
    "version": 3
   },
   "file_extension": ".py",
   "mimetype": "text/x-python",
   "name": "python",
   "nbconvert_exporter": "python",
   "pygments_lexer": "ipython3",
   "version": "3.9.7"
  }
 },
 "nbformat": 4,
 "nbformat_minor": 5
}
