{
 "cells": [
  {
   "cell_type": "code",
   "execution_count": 8,
   "metadata": {},
   "outputs": [],
   "source": [
    "import json\n",
    "import urllib.request\n",
    "import re\n",
    "import pandas as pd"
   ]
  },
  {
   "cell_type": "code",
   "execution_count": 9,
   "metadata": {},
   "outputs": [],
   "source": [
    "def get_json(title):\n",
    "  baseurl = \"https://marvel.fandom.com/api.php?\"\n",
    "  action = \"action=query\"\n",
    "  title = \"titles={}\".format(title.replace(\" \", \"_\"))\n",
    "  content = \"prop=revisions&rvprop=content&rvslots=*\"\n",
    "  dataformat =\"format=json\"\n",
    "\n",
    "  query = \"{}{}&{}&{}&{}\".format(baseurl, action, content, title, dataformat)\n",
    "    \n",
    "  wikiresponse = urllib.request.urlopen(query)\n",
    "  wikidata = wikiresponse.read()\n",
    "  wikitext = wikidata.decode('utf-8')\n",
    "\n",
    "\n",
    "  return json.loads(wikitext)\n",
    "\n",
    "def displayWiki(wiki):\n",
    "    code = str(list(wiki[\"query\"][\"pages\"].keys())[0])\n",
    "    title = wiki[\"query\"][\"pages\"][code][\"title\"]\n",
    "    content = wiki[\"query\"][\"pages\"][code][\"revisions\"][0][\"slots\"][\"main\"][\"*\"]\n",
    "    return title, content"
   ]
  },
  {
   "cell_type": "code",
   "execution_count": 10,
   "metadata": {},
   "outputs": [
    {
     "data": {
      "text/plain": [
       "['Avengers (Earth-616)',\n",
       " 'X-Men (Earth-616)',\n",
       " 'Illuminati (Earth-616)',\n",
       " 'Inhuman Royal Guard (Earth-616)',\n",
       " 'Guardians of the Galaxy (Earth-616)',\n",
       " 'Avengers (1,000,000 BC) (Earth-616)',\n",
       " 'Sinister Six (Earth-616)',\n",
       " 'Thunderbolts (Earth-616)',\n",
       " 'Elders of the Universe (Earth-616)',\n",
       " 'Young Avengers (Earth-616)',\n",
       " 'Dark Avengers (Earth-616)',\n",
       " 'Fantastic Four (Earth-616)',\n",
       " 'Strategic Homeland Intervention, Enforcement and Logistics Division (Earth-616)',\n",
       " 'Defenders (Earth-616)',\n",
       " 'Hydra (Earth-616)',\n",
       " 'Black Order (Earth-616)',\n",
       " 'Cabal (Dark Illuminati) (Earth-616)',\n",
       " 'Hand (Earth-616)',\n",
       " 'Heralds of Galactus (Earth-616)',\n",
       " 'Winter Guard (Earth-616)']"
      ]
     },
     "execution_count": 10,
     "metadata": {},
     "output_type": "execute_result"
    }
   ],
   "source": [
    "teams = None\n",
    "with open(\"teams.txt\", \"r\") as f:\n",
    "  teams = f.read().split(\"\\n\")[:-1]\n",
    "teams"
   ]
  },
  {
   "cell_type": "code",
   "execution_count": 11,
   "metadata": {},
   "outputs": [],
   "source": [
    "regex_links = r\"\\[\\[(.*?)(?:|\\|.*?)\\]\\]\""
   ]
  },
  {
   "cell_type": "code",
   "execution_count": 12,
   "metadata": {},
   "outputs": [
    {
     "name": "stdout",
     "output_type": "stream",
     "text": [
      "True\n",
      "True\n",
      "True\n",
      "True\n",
      "True\n",
      "True\n",
      "True\n",
      "True\n",
      "True\n",
      "True\n",
      "True\n",
      "True\n",
      "True\n",
      "True\n",
      "True\n",
      "True\n",
      "True\n",
      "True\n",
      "True\n",
      "True\n"
     ]
    }
   ],
   "source": [
    "for team in teams:\r\n",
    "  a = displayWiki(get_json(team))[1]\r\n",
    "  b = re.split(r\"\\| First\", a)[0]\r\n",
    "  \r\n",
    "  name = re.sub(\" \\(Earth-.*\", \"\", team)\r\n",
    "  leaders_raw = re.findall(r\"Leaders.*?\\| CurrentMembers\", b, flags=re.DOTALL)[0]\r\n",
    "  leaders = re.findall(regex_links, leaders_raw)\r\n",
    "  \r\n",
    "  current_member_raw = re.findall(r\"\\| CurrentMembers.*?\\| FormerMembers\", b, flags=re.DOTALL)[0]\r\n",
    "  print(len(current_member_raw)>0)"
   ]
  },
  {
   "cell_type": "code",
   "execution_count": 13,
   "metadata": {},
   "outputs": [
    {
     "data": {
      "text/plain": [
       "3"
      ]
     },
     "execution_count": 13,
     "metadata": {},
     "output_type": "execute_result"
    }
   ],
   "source": [
    "avengers = displayWiki(get_json(\"Avengers (Earth-616)\"))[1]\n",
    "len(avengers.split(\"First\"))"
   ]
  }
 ],
 "metadata": {
  "interpreter": {
   "hash": "3405df15e4953545831bbb8174ce89dd7632c146c43537a8990c777f42b240d0"
  },
  "kernelspec": {
   "display_name": "Python 3.9.1 64-bit ('venv': venv)",
   "name": "python3"
  },
  "language_info": {
   "codemirror_mode": {
    "name": "ipython",
    "version": 3
   },
   "file_extension": ".py",
   "mimetype": "text/x-python",
   "name": "python",
   "nbconvert_exporter": "python",
   "pygments_lexer": "ipython3",
   "version": "3.9.1"
  }
 },
 "nbformat": 4,
 "nbformat_minor": 5
}