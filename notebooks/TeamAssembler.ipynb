{
 "cells": [
  {
   "cell_type": "markdown",
   "id": "f2e4f848",
   "metadata": {},
   "source": [
    "# Team Assembler\n",
    "\n",
    "![header](../images/The_Marvel_Universe.png)\n",
    "\n",
    "In this first notebook we are going to substract all the characters from different Marvel heroes and villain teams to create the graph that is going to be used on the project"
   ]
  },
  {
   "cell_type": "code",
   "execution_count": 1,
   "id": "320bb99f",
   "metadata": {},
   "outputs": [],
   "source": [
    "import json\n",
    "import urllib.request\n",
    "\n",
    "import re\n",
    "\n",
    "import pandas as pd\n",
    "import numpy as np\n",
    "\n",
    "\n",
    "from tqdm.notebook import tqdm\n",
    "\n",
    "tqdm.pandas()"
   ]
  },
  {
   "cell_type": "markdown",
   "id": "168c274e",
   "metadata": {},
   "source": [
    "To get who bellongs in which team, first we need to get all the teams. We use `Category:Earth-616/Teams` for that."
   ]
  },
  {
   "cell_type": "code",
   "execution_count": 2,
   "id": "92a5a77b",
   "metadata": {},
   "outputs": [],
   "source": [
    "def get_teams():\n",
    "  \n",
    "  cmcontinue_text = \"\"\n",
    "  first_time = True\n",
    "  \n",
    "  team_list = []\n",
    "  \n",
    "  while cmcontinue_text or first_time: \n",
    "  \n",
    "    first_time = False\n",
    "  \n",
    "    baseurl = \"https://marvel.fandom.com/api.php?\"\n",
    "    action = \"action=query&list=categorymembers\"\n",
    "    q_title = \"cmtitle=Category:Earth-616/Teams\"\n",
    "\n",
    "    content = \"prop=revisions&rvprop=content&rvslots=*\"\n",
    "    dataformat =\"format=json\"\n",
    "    cmcontinue = \"cmlimit=max&cmcontinue={}\".format(cmcontinue_text)\n",
    "\n",
    "    query = \"{}{}&{}&{}&{}&{}\".format(baseurl, action, q_title, content, dataformat, cmcontinue)\n",
    "    wikiresponse = urllib.request.urlopen(query)\n",
    "    wikidata = wikiresponse.read()\n",
    "    wikitext = wikidata.decode('utf-8')\n",
    "    \n",
    "    wiki_json = json.loads(wikitext)\n",
    "    \n",
    "    team_list += [team[\"title\"] for team in wiki_json[\"query\"][\"categorymembers\"]\n",
    "                 if not team[\"title\"].startswith(\"Category:\")]\n",
    "    \n",
    "    if \"continue\" in list(wiki_json.keys()):\n",
    "      cmcontinue_text = wiki_json[\"continue\"][\"cmcontinue\"]\n",
    "    else:\n",
    "      cmcontinue_text = \"\"\n",
    "      \n",
    "  first_time = True\n",
    "    \n",
    "  while cmcontinue_text or first_time: \n",
    "  \n",
    "    first_time = False\n",
    "  \n",
    "    baseurl = \"https://marvel.fandom.com/api.php?\"\n",
    "    action = \"action=query&list=categorymembers\"\n",
    "    q_title = \"cmtitle=Category:Earth-616/Organizations\"\n",
    "\n",
    "    content = \"prop=revisions&rvprop=content&rvslots=*\"\n",
    "    dataformat =\"format=json\"\n",
    "    cmcontinue = \"cmlimit=max&cmcontinue={}\".format(cmcontinue_text)\n",
    "\n",
    "    query = \"{}{}&{}&{}&{}&{}\".format(baseurl, action, q_title, content, dataformat, cmcontinue)\n",
    "    wikiresponse = urllib.request.urlopen(query)\n",
    "    wikidata = wikiresponse.read()\n",
    "    wikitext = wikidata.decode('utf-8')\n",
    "    \n",
    "    wiki_json = json.loads(wikitext)\n",
    "    \n",
    "    team_list += [team[\"title\"] for team in wiki_json[\"query\"][\"categorymembers\"]\n",
    "                 if not team[\"title\"].startswith(\"Category:\")]\n",
    "    \n",
    "    if \"continue\" in list(wiki_json.keys()):\n",
    "      cmcontinue_text = wiki_json[\"continue\"][\"cmcontinue\"]\n",
    "    else:\n",
    "      cmcontinue_text = \"\"\n",
    "      \n",
    "  return team_list"
   ]
  },
  {
   "cell_type": "code",
   "execution_count": 3,
   "id": "1627ebeb",
   "metadata": {},
   "outputs": [],
   "source": [
    "teams = list(set(get_teams()))"
   ]
  },
  {
   "cell_type": "code",
   "execution_count": 4,
   "id": "aa0b11d2",
   "metadata": {},
   "outputs": [
    {
     "data": {
      "text/plain": [
       "3051"
      ]
     },
     "execution_count": 4,
     "metadata": {},
     "output_type": "execute_result"
    }
   ],
   "source": [
    "len(teams)"
   ]
  },
  {
   "cell_type": "markdown",
   "id": "ac31ccd2",
   "metadata": {},
   "source": [
    "With this we get that there are 1778 different teams. Now we need the members of each team. Luckily, there is a special page where we can get that: `Category:{team_name}/Members`"
   ]
  },
  {
   "cell_type": "code",
   "execution_count": 5,
   "id": "bb95c1b5",
   "metadata": {},
   "outputs": [],
   "source": [
    "def getMembers(team):  \n",
    "  cmcontinue_text = \"\"\n",
    "  first_time = True\n",
    "  \n",
    "  member_list = []\n",
    "  \n",
    "  while cmcontinue_text or first_time: \n",
    "  \n",
    "    first_time = False\n",
    "  \n",
    "    baseurl = \"https://marvel.fandom.com/api.php?\"\n",
    "    action = \"action=query&list=categorymembers\"\n",
    "    q_title = \"cmtitle=Category:{}/Members\".format(urllib.parse.quote_plus(team.replace(\" \", \"_\")))\n",
    "\n",
    "    content = \"prop=revisions&rvprop=content&rvslots=*\"\n",
    "    dataformat =\"format=json\"\n",
    "    cmcontinue = \"cmlimit=max&cmcontinue={}\".format(cmcontinue_text)\n",
    "\n",
    "    query = \"{}{}&{}&{}&{}&{}\".format(baseurl, action, q_title, content, dataformat, cmcontinue)\n",
    "    wikiresponse = urllib.request.urlopen(query)\n",
    "    wikidata = wikiresponse.read()\n",
    "    wikitext = wikidata.decode('utf-8')\n",
    "    \n",
    "    wiki_json = json.loads(wikitext)\n",
    "    \n",
    "    member_list += [member[\"title\"] for member in wiki_json[\"query\"][\"categorymembers\"]]\n",
    "    \n",
    "    if \"continue\" in list(wiki_json.keys()):\n",
    "      cmcontinue_text = wiki_json[\"continue\"][\"cmcontinue\"]\n",
    "    else:\n",
    "      cmcontinue_text = \"\"\n",
    "      \n",
    "  return member_list"
   ]
  },
  {
   "cell_type": "code",
   "execution_count": 6,
   "id": "a39cb876",
   "metadata": {},
   "outputs": [
    {
     "data": {
      "application/vnd.jupyter.widget-view+json": {
       "model_id": "f8cc2c7d3b454320b8611ce21915ab82",
       "version_major": 2,
       "version_minor": 0
      },
      "text/plain": [
       "  0%|          | 0/3051 [00:00<?, ?it/s]"
      ]
     },
     "metadata": {},
     "output_type": "display_data"
    }
   ],
   "source": [
    "dataset = []\n",
    "for team in tqdm(teams):\n",
    "  dataset.append([team, getMembers(team)])"
   ]
  },
  {
   "cell_type": "code",
   "execution_count": 7,
   "id": "fc1297eb",
   "metadata": {},
   "outputs": [
    {
     "data": {
      "text/html": [
       "<div>\n",
       "<style scoped>\n",
       "    .dataframe tbody tr th:only-of-type {\n",
       "        vertical-align: middle;\n",
       "    }\n",
       "\n",
       "    .dataframe tbody tr th {\n",
       "        vertical-align: top;\n",
       "    }\n",
       "\n",
       "    .dataframe thead th {\n",
       "        text-align: right;\n",
       "    }\n",
       "</style>\n",
       "<table border=\"1\" class=\"dataframe\">\n",
       "  <thead>\n",
       "    <tr style=\"text-align: right;\">\n",
       "      <th></th>\n",
       "      <th>team_name</th>\n",
       "      <th>members</th>\n",
       "    </tr>\n",
       "  </thead>\n",
       "  <tbody>\n",
       "    <tr>\n",
       "      <th>0</th>\n",
       "      <td>Oracle Inc. (Earth-616)</td>\n",
       "      <td>[Anita Savvy (Earth-616), Caleb Alexander (Ear...</td>\n",
       "    </tr>\n",
       "    <tr>\n",
       "      <th>1</th>\n",
       "      <td>Metal Mobsters (Earth-616)</td>\n",
       "      <td>[]</td>\n",
       "    </tr>\n",
       "    <tr>\n",
       "      <th>2</th>\n",
       "      <td>Knights of the Atomic Round Table (Earth-616)</td>\n",
       "      <td>[Anthony Stark (Earth-616), Bruce Banner (Eart...</td>\n",
       "    </tr>\n",
       "    <tr>\n",
       "      <th>3</th>\n",
       "      <td>Yoruba</td>\n",
       "      <td>[]</td>\n",
       "    </tr>\n",
       "    <tr>\n",
       "      <th>4</th>\n",
       "      <td>Emissaries of Evil (Electro) (Earth-616)</td>\n",
       "      <td>[Manuel Eloganto (Earth-616), Maxwell Dillon (...</td>\n",
       "    </tr>\n",
       "    <tr>\n",
       "      <th>...</th>\n",
       "      <td>...</td>\n",
       "      <td>...</td>\n",
       "    </tr>\n",
       "    <tr>\n",
       "      <th>3046</th>\n",
       "      <td>Junkyard Dogs (Earth-616)</td>\n",
       "      <td>[Rashid Hammer Jones (Earth-616)]</td>\n",
       "    </tr>\n",
       "    <tr>\n",
       "      <th>3047</th>\n",
       "      <td>S.H.I.E.L.D. Psi Division (Earth-616)</td>\n",
       "      <td>[Agent Locke (Earth-616), Daniel Fricks (Earth...</td>\n",
       "    </tr>\n",
       "    <tr>\n",
       "      <th>3048</th>\n",
       "      <td>Crusade (Earth-616)</td>\n",
       "      <td>[Ezra Keith (Earth-616)]</td>\n",
       "    </tr>\n",
       "    <tr>\n",
       "      <th>3049</th>\n",
       "      <td>Fraternity of Raptors (Warp World) (Earth-616)</td>\n",
       "      <td>[]</td>\n",
       "    </tr>\n",
       "    <tr>\n",
       "      <th>3050</th>\n",
       "      <td>Serpent Squad (Cobra) (Earth-616)</td>\n",
       "      <td>[Jordan Dixon (Earth-616), Klaus Voorhees (Ear...</td>\n",
       "    </tr>\n",
       "  </tbody>\n",
       "</table>\n",
       "<p>3051 rows × 2 columns</p>\n",
       "</div>"
      ],
      "text/plain": [
       "                                           team_name  \\\n",
       "0                            Oracle Inc. (Earth-616)   \n",
       "1                         Metal Mobsters (Earth-616)   \n",
       "2      Knights of the Atomic Round Table (Earth-616)   \n",
       "3                                             Yoruba   \n",
       "4           Emissaries of Evil (Electro) (Earth-616)   \n",
       "...                                              ...   \n",
       "3046                       Junkyard Dogs (Earth-616)   \n",
       "3047           S.H.I.E.L.D. Psi Division (Earth-616)   \n",
       "3048                             Crusade (Earth-616)   \n",
       "3049  Fraternity of Raptors (Warp World) (Earth-616)   \n",
       "3050               Serpent Squad (Cobra) (Earth-616)   \n",
       "\n",
       "                                                members  \n",
       "0     [Anita Savvy (Earth-616), Caleb Alexander (Ear...  \n",
       "1                                                    []  \n",
       "2     [Anthony Stark (Earth-616), Bruce Banner (Eart...  \n",
       "3                                                    []  \n",
       "4     [Manuel Eloganto (Earth-616), Maxwell Dillon (...  \n",
       "...                                                 ...  \n",
       "3046                  [Rashid Hammer Jones (Earth-616)]  \n",
       "3047  [Agent Locke (Earth-616), Daniel Fricks (Earth...  \n",
       "3048                           [Ezra Keith (Earth-616)]  \n",
       "3049                                                 []  \n",
       "3050  [Jordan Dixon (Earth-616), Klaus Voorhees (Ear...  \n",
       "\n",
       "[3051 rows x 2 columns]"
      ]
     },
     "execution_count": 7,
     "metadata": {},
     "output_type": "execute_result"
    }
   ],
   "source": [
    "df = pd.DataFrame(dataset, columns=[\"team_name\", \"members\"])\n",
    "df"
   ]
  },
  {
   "cell_type": "code",
   "execution_count": 8,
   "id": "6f5907ca",
   "metadata": {},
   "outputs": [],
   "source": [
    "df.to_csv(\"../data/marvel_teams.csv\", index=False)"
   ]
  }
 ],
 "metadata": {
  "kernelspec": {
   "display_name": "Python 3 (ipykernel)",
   "language": "python",
   "name": "python3"
  },
  "language_info": {
   "codemirror_mode": {
    "name": "ipython",
    "version": 3
   },
   "file_extension": ".py",
   "mimetype": "text/x-python",
   "name": "python",
   "nbconvert_exporter": "python",
   "pygments_lexer": "ipython3",
   "version": "3.9.7"
  }
 },
 "nbformat": 4,
 "nbformat_minor": 5
}
