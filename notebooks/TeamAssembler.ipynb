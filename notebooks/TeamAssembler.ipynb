{
 "cells": [
  {
   "cell_type": "markdown",
   "id": "f2e4f848",
   "metadata": {},
   "source": [
    "# Team Assembler\n",
    "\n",
    "![header](../images/The_Marvel_Universe.png)\n",
    "\n",
    "In this first notebook we are going to substract all the characters from different Marvel heroes and villain teams to create the graph that is going to be used on the project"
   ]
  },
  {
   "cell_type": "code",
   "execution_count": null,
   "id": "320bb99f",
   "metadata": {},
   "outputs": [],
   "source": [
    "import json\n",
    "import urllib.request\n",
    "\n",
    "import re\n",
    "\n",
    "import pandas as pd\n",
    "import numpy as np\n",
    "\n",
    "\n",
    "from tqdm.notebook import tqdm\n",
    "\n",
    "tqdm.pandas()"
   ]
  },
  {
   "cell_type": "code",
   "execution_count": null,
   "id": "4a6eb7c7",
   "metadata": {},
   "outputs": [],
   "source": [
    "def get_json(title):\n",
    "  baseurl = \"https://marvel.fandom.com/api.php?\"\n",
    "  action = \"action=query\"\n",
    "  title = \"titles={}\".format(urllib.parse.quote_plus(title.replace(\" \", \"_\")))\n",
    "   \n",
    "  content = \"prop=revisions&rvprop=content&rvslots=*\"\n",
    "  dataformat =\"format=json\"\n",
    "\n",
    "  query = \"{}{}&{}&{}&{}\".format(baseurl, action, content, title, dataformat)\n",
    "    \n",
    "  wikiresponse = urllib.request.urlopen(query)\n",
    "  wikidata = wikiresponse.read()\n",
    "  wikitext = wikidata.decode('utf-8')\n",
    "    \n",
    "  return json.loads(wikitext)\n",
    "\n",
    "def displayWiki(wiki):\n",
    "    code = str(list(wiki[\"query\"][\"pages\"].keys())[0])\n",
    "    title = wiki[\"query\"][\"pages\"][code][\"title\"]\n",
    "    content = wiki[\"query\"][\"pages\"][code][\"revisions\"][0][\"slots\"][\"main\"][\"*\"]\n",
    "    return title, content"
   ]
  },
  {
   "cell_type": "markdown",
   "id": "120d3698",
   "metadata": {},
   "source": [
    "## Teams\n",
    "\n",
    "Instead of getting every single character from Marvel, we are going to work with a small subset. Why? Well, first of all, in the Marvel wiki there are more than 30.000 characters. Recopilate and process all that information would take a long time, and most of those characterrs are secondary characters that do not give much information.The second reason, and the deciding factor was that there is no easy way to get the link to all the characters from the wiki."
   ]
  },
  {
   "cell_type": "code",
   "execution_count": null,
   "id": "8cde929d",
   "metadata": {},
   "outputs": [],
   "source": [
    "displayWiki(get_json(\"Category:Characters\"))[1]"
   ]
  },
  {
   "cell_type": "code",
   "execution_count": null,
   "id": "2811a5bb",
   "metadata": {},
   "outputs": [],
   "source": [
    "displayWiki(get_json(\"Category:Earth-616/Characters\"))[1]"
   ]
  },
  {
   "cell_type": "markdown",
   "id": "462fd106",
   "metadata": {},
   "source": [
    "As can be seen in the previous cells, doing a query over the character wiki page, it does not return any link or information about any character."
   ]
  },
  {
   "cell_type": "markdown",
   "id": "e9935cfc",
   "metadata": {},
   "source": [
    "### Some background\n",
    "\n",
    "For those of you that are not huge Marvel nerd fans, you will probably appreciate some background to be able to understand the data a bit more.\n",
    "\n",
    "Marvel is divided in many (many) universes, in the Marveel multiverse (it makes sense right). This is done to allow any Marvel writer some creative freedom. If someone wants to make a story where Spider-Man is a cartoony pig, well, they can do it ([Spider-Ham](https://marvel.fandom.com/wiki/Peter_Porker_(Earth-8311))), in a different universe, so it does not collide with the main characters in other universes.\n",
    "\n",
    "The main universe, where most relevant events and different, and more canon stories occur, is the universe called *Earth-616*, and is the one we are going to use for our analysis. Is where the most known stories happen, and where there are more superheores and supervillains.\n",
    "\n",
    "Ok, but what teams did we select. We tried to get the most famous ones, both of heores and villains, so we could get more characters from it, and we could get the most famous ones too."
   ]
  },
  {
   "cell_type": "code",
   "execution_count": null,
   "id": "35f26607",
   "metadata": {},
   "outputs": [],
   "source": [
    "teams = None\n",
    "with open(\"../data/teams.txt\", \"r\") as f:\n",
    "  teams = f.read().split(\"\\n\")[:-1]\n",
    "teams"
   ]
  },
  {
   "cell_type": "markdown",
   "id": "c503d4dd",
   "metadata": {},
   "source": [
    "All links are either `[[link]]` or `[[link|known_as]]`."
   ]
  },
  {
   "cell_type": "code",
   "execution_count": null,
   "id": "30cebfca",
   "metadata": {},
   "outputs": [],
   "source": [
    "regex_links = r\"\\[\\[(.*?)(?:|\\|.*?)\\]\\]\""
   ]
  },
  {
   "cell_type": "markdown",
   "id": "ec843121",
   "metadata": {},
   "source": [
    "Every team has a similar structure:\n",
    "\n",
    "```\n",
    "{{Marvel Database:Team Template\n",
    "| Title                   = \n",
    "| Image                   = \n",
    "| ImageSize               = \n",
    "| Name                    = \n",
    "| EditorialNames          = \n",
    "| Aliases                 = \n",
    "| Status                  = \n",
    "| Identity                = \n",
    "| Reality                 = \n",
    "| BaseOfOperations        = \n",
    "| Leaders                 = \n",
    "| CurrentMembers          = \n",
    "| FormerMembers           = \n",
    "| Allies                  = \n",
    "| Enemies                 = \n",
    "| Origin                  = \n",
    "| PlaceOfFormation        = \n",
    "| PlaceOfDissolution      = \n",
    "| Creators                = \n",
    "| First                   =\n",
    "| Last                    = \n",
    " \n",
    " ...\n",
    " ...\n",
    " ...\n",
    " }}\n",
    "```\n",
    "\n",
    "We want to obtain the characters that are leaders of a group, those that are current members, those that are former members, allies and enemies. And, just in case those are useful too, those that appear on the subsequent text.\n",
    "\n",
    "That's why we divide in groups of information, and get the links from them."
   ]
  },
  {
   "cell_type": "code",
   "execution_count": null,
   "id": "a2545c73",
   "metadata": {},
   "outputs": [],
   "source": [
    "def createDataFrame(teams):\n",
    "  df = pd.DataFrame(columns=[\"team_name\", \"leaders\", \"current_members\",\n",
    "                             \"former_members\", \"allies\", \"enemies\",\n",
    "                             \"additional_links\"]\n",
    "                   )\n",
    "  \n",
    "  for team in tqdm(teams):\n",
    "    content = displayWiki(get_json(team))[1]\n",
    "    header = re.split(r\"\\| First\", content)[0]\n",
    "    web_content = re.split(r\"\\| Origin \", content)[1]\n",
    "\n",
    "    name = re.sub(\" \\(Earth-.*\", \"\", team)\n",
    "    \n",
    "    leaders_raw = re.findall(r\"Leaders.*?\\| CurrentMembers\", header, flags=re.DOTALL)[0]\n",
    "    leaders = re.findall(regex_links, leaders_raw)\n",
    "\n",
    "    current_member_raw = re.findall(r\"\\| CurrentMembers.*?\\| FormerMembers\", header, flags=re.DOTALL)[0]\n",
    "    current_member = re.findall(regex_links, current_member_raw)\n",
    "\n",
    "    former_member_raw = re.findall(r\"\\| FormerMembers.*?\\| Allies\", header, flags=re.DOTALL)[0]\n",
    "    former_member = re.findall(regex_links, former_member_raw)\n",
    "\n",
    "    allies_raw = re.findall(r\"\\| Allies.*?\\| Enemies\", header, flags=re.DOTALL)[0]\n",
    "    allies = re.findall(regex_links, allies_raw)\n",
    "\n",
    "    enemies_raw = re.findall(r\"\\| Enemies.*?\\| Origin\", header, flags=re.DOTALL)[0]\n",
    "    enemies = re.findall(regex_links, enemies_raw)\n",
    "    \n",
    "    additional_links = re.findall(regex_links, web_content)\n",
    "  \n",
    "    with open(\"../data/teams/\"+team.replace(\" \", \"_\")+\".txt\", \"w\") as f:\n",
    "      f.write(content)\n",
    "  \n",
    "    row = {\n",
    "      \"team_name\"       : name,\n",
    "      \"leaders\"         : leaders,\n",
    "      \"current_members\" : current_member,\n",
    "      \"former_members\"  : former_member,\n",
    "      \"allies\"          : allies,\n",
    "      \"enemies\"         : enemies,\n",
    "      \"additional_links\": additional_links\n",
    "    }\n",
    "    \n",
    "    df = df.append(row, ignore_index=True)\n",
    "  \n",
    "  return df"
   ]
  },
  {
   "cell_type": "code",
   "execution_count": null,
   "id": "2d147a53",
   "metadata": {},
   "outputs": [],
   "source": [
    "marvel_df = createDataFrame(teams)\n",
    "marvel_df.head()"
   ]
  },
  {
   "cell_type": "markdown",
   "id": "59847ca8",
   "metadata": {},
   "source": [
    "## Characters\n",
    "\n",
    "Ok, now that we have each team with their characters, it's time to get each character. That would be straight forward if it wasn't because the data is not clean. As we have gotten every single link, some of them reference somethings that are nor characters, such as other teams, races or concepts."
   ]
  },
  {
   "cell_type": "code",
   "execution_count": null,
   "id": "141cd6ee",
   "metadata": {},
   "outputs": [],
   "source": [
    "characters_df = pd.DataFrame(columns=[\"name\", \"teams\"])"
   ]
  },
  {
   "cell_type": "code",
   "execution_count": null,
   "id": "b0132376",
   "metadata": {},
   "outputs": [],
   "source": [
    "all_characters = list()\n",
    "\n",
    "for i, row in marvel_df.iterrows():\n",
    "  all_characters += [*row.leaders, *row.current_members, *row.former_members, *row.allies, *row.enemies]\n",
    "\n",
    "characters_df = pd.DataFrame(list(set(all_characters)), columns=[\"name\"])\n",
    "characters_df.head()"
   ]
  },
  {
   "cell_type": "markdown",
   "id": "3ff54bc9",
   "metadata": {},
   "source": [
    "Luckily, the characters have a template unique, that looks like:\n",
    "  \n",
    "```\n",
    "{{Marvel Database:Character Template\n",
    "| Image                   = \n",
    "| Name                    = \n",
    "| CurrentAlias            = \n",
    "| Aliases                 = \n",
    "| Affiliation             = \n",
    "| Relatives               = \n",
    "| MaritalStatus           = \n",
    "| CharRef                 = \n",
    "| Gender                  = \n",
    "| Height                  = \n",
    "| Weight                  = \n",
    "| Eyes                    = \n",
    "| Hair                    = \n",
    "| UnusualFeatures         = \n",
    "  ...\n",
    "  ...\n",
    "}}\n",
    "```\n",
    "Ok, this looks similar to the teams template, but what we have to look at is the keyword `CharRef`. This keyword is unique for the characters (as well as `Gender`, `Height`, `Weight`, `Eyes`, `Hair` and `UnusualFeatures`)\n",
    "\n",
    "Knowing this, we can decide if a link is a character, or other thing. At the same time, because we are looking at their wiki content, we can get the links they reference."
   ]
  },
  {
   "cell_type": "code",
   "execution_count": null,
   "id": "c16e0ce4",
   "metadata": {},
   "outputs": [],
   "source": [
    "def getContent(row):\n",
    "  regex = r'\\/|\\\"|\\:|\\*| '\n",
    "  \n",
    "  new_name = re.sub(regex, \"_\", row[\"name\"])\n",
    "  \n",
    "  try:\n",
    "    content = displayWiki(get_json(row[\"name\"]))[1]\n",
    "\n",
    "    isCharacter = len(re.findall(r\"\\| CharRef\", content)) > 0\n",
    "    links = list()\n",
    "    \n",
    "    with open(\"../data/characters/\" + new_name + \".txt\", \"w\") as f:\n",
    "      f.write(content)\n",
    "\n",
    "    if isCharacter:\n",
    "      links = re.findall(regex_links, content)\n",
    "      links = [re.sub(regex, \"_\", x) for x in links]\n",
    "      \n",
    "  except KeyError:    \n",
    "    links = list()\n",
    "    isCharacter = False\n",
    "    \n",
    "    \n",
    "  return pd.Series([new_name, isCharacter, links])"
   ]
  },
  {
   "cell_type": "code",
   "execution_count": null,
   "id": "697d803d",
   "metadata": {},
   "outputs": [],
   "source": [
    "characters_df[[\"name\", \"is_character\", \"links\"]] = characters_df.progress_apply(getContent, axis=1)\n",
    "\n",
    "characters_df"
   ]
  },
  {
   "cell_type": "code",
   "execution_count": null,
   "id": "b1720afd",
   "metadata": {},
   "outputs": [],
   "source": [
    "characters_df = characters_df[characters_df[\"is_character\"]].drop(columns=[\"is_character\"])\n",
    "characters_df.reset_index(drop=True)\n",
    "\n",
    "characters_df"
   ]
  },
  {
   "cell_type": "code",
   "execution_count": null,
   "id": "16a66577",
   "metadata": {},
   "outputs": [],
   "source": [
    "def replace_names(row):\n",
    "  characters = [row.leaders, row.current_members, row.former_members,\n",
    "                row.allies, row.enemies, row.additional_links]\n",
    "  \n",
    "  regex = r'\\/|\\\"|\\:|\\*| '\n",
    "  \n",
    "  new_characters = list()\n",
    "  \n",
    "  for i, character_list in enumerate(characters):\n",
    "    new_characters.append(list())\n",
    "    for character in character_list:\n",
    "      new_characters[i].append(re.sub(regex, \"_\", character))\n",
    "  \n",
    "  return pd.Series(new_characters)"
   ]
  },
  {
   "cell_type": "markdown",
   "id": "7a2dfdee",
   "metadata": {},
   "source": [
    "## Cleaning\n",
    "\n",
    "After we have the links, is necessary to clean those links that do not reference any characters from the links from both datasets"
   ]
  },
  {
   "cell_type": "code",
   "execution_count": null,
   "id": "47e68805",
   "metadata": {},
   "outputs": [],
   "source": [
    "def get_real_links(row):\n",
    "  links = [x for x in row.links if x in characters_df[\"name\"].values]\n",
    "  links = list(set(links))\n",
    "  \n",
    "  return pd.Series([links, len(links)])"
   ]
  },
  {
   "cell_type": "code",
   "execution_count": null,
   "id": "02f2a0fe",
   "metadata": {},
   "outputs": [],
   "source": [
    "characters_df[[\"links\", \"number_links\"]] = characters_df.progress_apply(get_real_links, axis=1)\n",
    "\n",
    "characters_df"
   ]
  },
  {
   "cell_type": "code",
   "execution_count": null,
   "id": "0ed5c108",
   "metadata": {},
   "outputs": [],
   "source": [
    "marvel_df[[\"leaders\", \"current_members\",\n",
    "           \"former_members\", \"allies\", \n",
    "           \"enemies\", \"additional_links\"]] = marvel_df.progress_apply(replace_names, axis=1)"
   ]
  },
  {
   "cell_type": "code",
   "execution_count": null,
   "id": "40c92f35",
   "metadata": {},
   "outputs": [],
   "source": [
    "def clear_dataset(row):\n",
    "\n",
    "  leaders = [x for x in row.leaders if x in characters_df[\"name\"].values]\n",
    "  current_members = [x for x in row.current_members if x in characters_df[\"name\"].values]\n",
    "  former_members = [x for x in row.former_members if x in characters_df[\"name\"].values]\n",
    "  allies = [x for x in row.allies if x in characters_df[\"name\"].values]\n",
    "  enemies = [x for x in row.enemies if x in characters_df[\"name\"].values]\n",
    "  additional_links = [x for x in row.additional_links if x in characters_df[\"name\"].values]\n",
    "  \n",
    "  return pd.Series([leaders, current_members, former_members, allies, enemies, additional_links])"
   ]
  },
  {
   "cell_type": "code",
   "execution_count": null,
   "id": "4e7ef9ba",
   "metadata": {},
   "outputs": [],
   "source": [
    "marvel_df[[\"leaders\", \"current_members\",\n",
    "           \"former_members\", \"allies\",\n",
    "           \"enemies\", \"additional_links\"]] = marvel_df.progress_apply(clear_dataset, axis=1)\n",
    "\n",
    "marvel_df"
   ]
  },
  {
   "cell_type": "markdown",
   "id": "f335c590",
   "metadata": {},
   "source": [
    "## Save the datasets\n",
    "\n",
    "Now that the entries are somewhat clear, we can save them"
   ]
  },
  {
   "cell_type": "code",
   "execution_count": null,
   "id": "fc38d906",
   "metadata": {},
   "outputs": [],
   "source": [
    "marvel_df.to_csv(\"../data/marvel_teams.csv\", index=False)\n",
    "characters_df.to_csv(\"../data/marvel_characters.csv\", index=False)"
   ]
  }
 ],
 "metadata": {
  "kernelspec": {
   "display_name": "Python 3 (ipykernel)",
   "language": "python",
   "name": "python3"
  },
  "language_info": {
   "codemirror_mode": {
    "name": "ipython",
    "version": 3
   },
   "file_extension": ".py",
   "mimetype": "text/x-python",
   "name": "python",
   "nbconvert_exporter": "python",
   "pygments_lexer": "ipython3",
   "version": "3.9.7"
  }
 },
 "nbformat": 4,
 "nbformat_minor": 5
}
