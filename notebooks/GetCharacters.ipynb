{
 "cells": [
  {
   "cell_type": "markdown",
   "id": "574620ec",
   "metadata": {},
   "source": [
    "# Get characters \n",
    "![header](../images/The_Marvel_Universe.png)\n",
    "\n",
    "In this first notebook we are going to substract all the characters from different Marvel heroes and villain teams to create the graph that is going to be used on the project"
   ]
  },
  {
   "cell_type": "code",
   "execution_count": 1,
   "id": "e46dddf9",
   "metadata": {},
   "outputs": [],
   "source": [
    "import json\n",
    "import urllib.request\n",
    "\n",
    "import re\n",
    "import os\n",
    "\n",
    "import pandas as pd\n",
    "import numpy as np\n",
    "\n",
    "import utils\n",
    "\n",
    "from concurrent.futures import ThreadPoolExecutor, as_completed\n",
    "from itertools import repeat\n",
    "\n",
    "from tqdm.notebook import tqdm\n",
    "tqdm.pandas()"
   ]
  },
  {
   "cell_type": "code",
   "execution_count": 2,
   "id": "feb1b534",
   "metadata": {},
   "outputs": [],
   "source": [
    "def get_character_names(title: str):\n",
    "  \n",
    "  cmcontinue_text = \"\"\n",
    "  first_time = True\n",
    "  \n",
    "  character_list = []\n",
    "  \n",
    "  while cmcontinue_text or first_time: \n",
    "    first_time = False\n",
    "  \n",
    "    baseurl = \"https://marvel.fandom.com/api.php?\"\n",
    "    action = \"action=query&list=categorymembers\"\n",
    "    q_title = \"cmtitle={}\".format(urllib.parse.quote_plus(title.replace(\" \", \"_\")))\n",
    "\n",
    "    content = \"prop=revisions&rvprop=content&rvslots=*\"\n",
    "    dataformat =\"format=json\"\n",
    "    cmcontinue = \"cmlimit=max&cmcontinue={}\".format(cmcontinue_text)\n",
    "\n",
    "    query = \"{}{}&{}&{}&{}&{}\".format(baseurl, action, q_title, content, dataformat, cmcontinue)\n",
    "    wikiresponse = urllib.request.urlopen(query)\n",
    "    wikidata = wikiresponse.read()\n",
    "    wikitext = wikidata.decode('utf-8')\n",
    "    \n",
    "    wiki_json = json.loads(wikitext)\n",
    "    \n",
    "    character_list += [character[\"title\"] for character in wiki_json[\"query\"][\"categorymembers\"]]\n",
    "\n",
    "    if \"continue\" in list(wiki_json.keys()):\n",
    "      cmcontinue_text = wiki_json[\"continue\"][\"cmcontinue\"]\n",
    "    else:\n",
    "      cmcontinue_text = \"\"\n",
    "      \n",
    "  return character_list"
   ]
  },
  {
   "cell_type": "markdown",
   "id": "221e01cd",
   "metadata": {},
   "source": [
    "## Characters\n",
    "From the query above we are able to get all characters in the Marvel Universe. As the lenght of the list will show, there is a lot of characters! To somehow make the size of the network managable we have chosen to fixate on one specific universe - Universe 616, which can be considered to be the main storyline of the Marvel Universe. From this universe alone we find almost 30.000 unique characters.\n",
    "\n",
    "Using the `get_character_names()` we find all the character names. We then find the description for each character finding their current enemy and allied teams."
   ]
  },
  {
   "cell_type": "code",
   "execution_count": 3,
   "id": "474dc535",
   "metadata": {
    "scrolled": true
   },
   "outputs": [],
   "source": [
    "character_names = get_character_names(\"Category:Earth-616/Characters\")"
   ]
  },
  {
   "cell_type": "markdown",
   "id": "e71978fd",
   "metadata": {},
   "source": [
    "# Downloading character content\n",
    "Because our data set is so big (29.998) distinct characters, and the marvel wiki query functions are not the fastest, we have done some work to make the downloading faster. \n",
    "\n",
    "First we figured, that instead of doing a query for each title (character name), found in the `titles=`-option, we could query up to 50 characters at a time. \n",
    "\n",
    "The second optimization is that we utilized multithreading. At first we tried to use `async`-functions, but saw the opposite of a benefit, as the runtime increased. We hypothise, that either we made a mistake in the code, which we checked thouroughly, or the api was so fast, that asyncio actually slowed down the process. Either way, utlizing threads instead allowed us to go from a download time of 4 hours to 16 minutes!"
   ]
  },
  {
   "cell_type": "code",
   "execution_count": 4,
   "id": "d54c6f93",
   "metadata": {},
   "outputs": [],
   "source": [
    "image  = re.compile(r\"Image\\s*=\\s(.*?)\\n\")\n",
    "gender = re.compile(\"Gender\\s*=\\s(.*?)\\n\")\n",
    "links  = re.compile(r\"\\[\\[(.*?)(?:\\|.*?)?\\]\\]\")\n",
    "\n",
    "content_path = \"../data/character_content/\"\n",
    "\n",
    "\n",
    "def get_character_content(names: list):\n",
    "    # Querying wiki for name\n",
    "    base_url = \"http://marvel.fandom.com/api.php?\"\n",
    "    action = \"action=query\"\n",
    "    title = f\"titles={'|'.join([urllib.parse.quote_plus(name.replace(' ', '_')) for name in names])}\"\n",
    "    content = \"prop=revisions&rvprop=content&rvslots=*\"\n",
    "    dataformat =\"format=json\"\n",
    "\n",
    "    query = \"{}{}&{}&{}&{}\".format(base_url, action, content, title, dataformat)\n",
    "    \n",
    "    resp = urllib.request.urlopen(query)\n",
    "    text = resp.read().decode(\"utf-8\")\n",
    "    data = json.loads(text)\n",
    "\n",
    "    pages = data[\"query\"][\"pages\"]\n",
    "    for page_id, page in pages.items():\n",
    "        page[\"page_id\"] = page_id\n",
    "        filename = utils.generate_filename(page[\"title\"])\n",
    "        with open(f\"{content_path}{filename}.json\", \"w\") as f:\n",
    "            json.dump(page, f, indent=4)\n",
    "\n",
    "def get_character_info(name: str, all_names_set: set):\n",
    "    filename = utils.generate_filename(name)\n",
    "    data = json.loads(open(f\"{content_path}{filename}.json\", \"r\").read())\n",
    "\n",
    "    title   = data[\"title\"]\n",
    "    content = data[\"revisions\"][0][\"slots\"][\"main\"][\"*\"]\n",
    "    pageid  = data[\"pageid\"]\n",
    "    \n",
    "    # Link for image for visualization in online\n",
    "    img = image.findall(content)\n",
    "    if len(img) >= 1: img = img[0]\n",
    "    \n",
    "    # Gender(s)\n",
    "    gen = gender.findall(content)\n",
    "    \n",
    "    # All square bracket links in the description\n",
    "    # Removing all links, that are not already an established character\n",
    "    # in our character_name_list, and is also not the name\n",
    "    # of the current person; no self loops!\n",
    "    lin = links.findall(content)\n",
    "    lin = [x for x in lin if x in all_names_set and x != title]\n",
    "\n",
    "    return title, pageid, img, gen, lin\n",
    "\n",
    "# Multithreaded solution for faster speed\n",
    "def get_content(names: list, max_workers: int = 16) -> None:\n",
    "    files = set(os.listdir(content_path))\n",
    "    missing_names = list(\n",
    "        filter(lambda x: f\"{utils.generate_filename(x)}.json\" not in files,\n",
    "        names\n",
    "        ))\n",
    "\n",
    "    if len(missing_names) == 0:\n",
    "        print(\"No missing names found 😊\")\n",
    "        return\n",
    "        \n",
    "    chunks = utils.generate_chunks(missing_names)\n",
    "    print(f\"Generated {len(chunks)} chunks!\")\n",
    "    with tqdm(total=len(chunks)) as pbar:\n",
    "        with ThreadPoolExecutor(max_workers=max_workers) as ex:\n",
    "            futures = [ex.submit(get_character_content, chunk) \n",
    "                       for chunk in chunks]\n",
    "            for future in as_completed(futures):\n",
    "                pbar.update(1)\n",
    "    print(\"Done downloading files!\")\n",
    "\n",
    "def get_character_infos(names: list, max_workers: int = 16) -> list:\n",
    "    all_names_set = set(names)\n",
    "    infos = []\n",
    "    with tqdm(total=len(names)) as pbar:\n",
    "        with ThreadPoolExecutor(max_workers=max_workers) as ex:\n",
    "            for result in ex.map(get_character_info, names, repeat(all_names_set)):\n",
    "                infos.append(result)\n",
    "                pbar.update(1)\n",
    "    print(\"Done getting character information\")\n",
    "    print(\"Converting to pd.DataFrame\")\n",
    "    return pd.DataFrame(infos, columns=[\"title\", \"pageid\", \"imglink\", \"gender\", \"links\"])"
   ]
  },
  {
   "cell_type": "code",
   "execution_count": 5,
   "id": "a3436a42",
   "metadata": {},
   "outputs": [
    {
     "name": "stdout",
     "output_type": "stream",
     "text": [
      "Generated 601 chunks!\n"
     ]
    },
    {
     "data": {
      "application/vnd.jupyter.widget-view+json": {
       "model_id": "072827c147824d7c90fdf2cd7d1420ae",
       "version_major": 2,
       "version_minor": 0
      },
      "text/plain": [
       "  0%|          | 0/601 [00:00<?, ?it/s]"
      ]
     },
     "metadata": {},
     "output_type": "display_data"
    },
    {
     "name": "stdout",
     "output_type": "stream",
     "text": [
      "Done downloading files!\n"
     ]
    }
   ],
   "source": [
    "get_content(character_names)"
   ]
  },
  {
   "cell_type": "code",
   "execution_count": 6,
   "id": "146cf1eb",
   "metadata": {},
   "outputs": [
    {
     "data": {
      "application/vnd.jupyter.widget-view+json": {
       "model_id": "3d85e79d3e5d49218f01618d2dd5daa7",
       "version_major": 2,
       "version_minor": 0
      },
      "text/plain": [
       "  0%|          | 0/30014 [00:00<?, ?it/s]"
      ]
     },
     "metadata": {},
     "output_type": "display_data"
    },
    {
     "name": "stdout",
     "output_type": "stream",
     "text": [
      "Done getting character information\n",
      "Converting to pd.DataFrame\n"
     ]
    }
   ],
   "source": [
    "df = get_character_infos(character_names)"
   ]
  },
  {
   "cell_type": "code",
   "execution_count": 7,
   "id": "80566e7a",
   "metadata": {},
   "outputs": [],
   "source": [
    "df.to_csv(f\"../data/marvel_characters.csv\")"
   ]
  }
 ],
 "metadata": {
  "interpreter": {
   "hash": "3405df15e4953545831bbb8174ce89dd7632c146c43537a8990c777f42b240d0"
  },
  "kernelspec": {
   "display_name": "Python 3 (ipykernel)",
   "language": "python",
   "name": "python3"
  },
  "language_info": {
   "codemirror_mode": {
    "name": "ipython",
    "version": 3
   },
   "file_extension": ".py",
   "mimetype": "text/x-python",
   "name": "python",
   "nbconvert_exporter": "python",
   "pygments_lexer": "ipython3",
   "version": "3.9.7"
  }
 },
 "nbformat": 4,
 "nbformat_minor": 5
}
