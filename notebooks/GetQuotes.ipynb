{
 "cells": [
  {
   "cell_type": "markdown",
   "id": "2717fe1d",
   "metadata": {},
   "source": [
    "# Get Character quotes\n",
    "\n",
    "For doing sentiment analyse, we propose the use of the quotes of each character. For that we need to compilate all the quotes from each character.\n",
    "\n",
    "That's fine, as inside the wiki, each character has a 'Quotes' page wich can be accessed by `Category:{Name}/Quotes` (https://marvel.fandom.com/wiki/Category:Peter_Parker_(Earth-616)/Quotes). Easy right?. Well, even tho that page exist, if you try to make a query to it, you will most likely get `{{Quotes}}`"
   ]
  },
  {
   "cell_type": "code",
   "execution_count": 1,
   "id": "b4468842",
   "metadata": {},
   "outputs": [],
   "source": [
    "import json\n",
    "import urllib.request\n",
    "\n",
    "import re\n",
    "\n",
    "import pandas as pd\n",
    "import numpy as np\n",
    "\n",
    "\n",
    "from tqdm.notebook import tqdm\n",
    "\n",
    "tqdm.pandas()"
   ]
  },
  {
   "cell_type": "code",
   "execution_count": 2,
   "id": "82aee75e",
   "metadata": {},
   "outputs": [],
   "source": [
    "def searchQuote(title):\n",
    "  baseurl = \"https://marvel.fandom.com/api.php?\"\n",
    "  action = \"action=query\"\n",
    "  title = \"titles={}\".format(urllib.parse.quote_plus(title.replace(\" \", \"_\")))\n",
    "   \n",
    "  content = \"prop=revisions&rvprop=content&rvslots=*\"\n",
    "  dataformat =\"format=json\"\n",
    "\n",
    "  query = \"{}{}&{}&{}&{}\".format(baseurl, action, content, title, dataformat)\n",
    "    \n",
    "  wikiresponse = urllib.request.urlopen(query)\n",
    "  wikidata = wikiresponse.read()\n",
    "  wikitext = wikidata.decode('utf-8')\n",
    "    \n",
    "  return json.loads(wikitext)\n",
    "\n",
    "def displayWiki(wiki):\n",
    "    code = str(list(wiki[\"query\"][\"pages\"].keys())[0])\n",
    "    title = wiki[\"query\"][\"pages\"][code][\"title\"]\n",
    "    content = wiki[\"query\"][\"pages\"][code][\"revisions\"][0][\"slots\"][\"main\"][\"*\"]\n",
    "    return content"
   ]
  },
  {
   "cell_type": "code",
   "execution_count": 3,
   "id": "d8356d89",
   "metadata": {},
   "outputs": [],
   "source": [
    "def get_quotes(character):\n",
    "  \n",
    "  cmcontinue_text = \"\"\n",
    "  first_time = True\n",
    "  \n",
    "  quotes_list = []\n",
    "  \n",
    "  while cmcontinue_text or first_time: \n",
    "  \n",
    "    first_time = False\n",
    "  \n",
    "    baseurl = \"https://marvel.fandom.com/api.php?\"\n",
    "    action = \"action=query&list=categorymembers\"\n",
    "    q_title = \"cmtitle=Category:{}/Quotes\".format(urllib.parse.quote_plus(character.replace(\" \", \"_\")))\n",
    "\n",
    "    content = \"prop=revisions&rvprop=content&rvslots=*\"\n",
    "    dataformat =\"format=json\"\n",
    "    \n",
    "\n",
    "    cmcontinue = \"cmlimit=max&cmcontinue={}\".format(cmcontinue_text)\n",
    "\n",
    "    query = \"{}{}&{}&{}&{}&{}\".format(baseurl, action, q_title, content, dataformat, cmcontinue)\n",
    "    wikiresponse = urllib.request.urlopen(query)\n",
    "    wikidata = wikiresponse.read()\n",
    "    wikitext = wikidata.decode('utf-8')\n",
    "    \n",
    "    \n",
    "    wiki_json = json.loads(wikitext)\n",
    "    \n",
    "    pages_with_quote = [page[\"title\"] for page in wiki_json[\"query\"][\"categorymembers\"]]\n",
    "    \n",
    "    for page in pages_with_quote:\n",
    "      content = displayWiki(searchQuote(page))\n",
    "    \n",
    "      quotes_list += re.findall(r\"Quotation.*?= (.*?)\\n\", content)\n",
    "    \n",
    "    \n",
    "    if \"continue\" in list(wiki_json.keys()):\n",
    "      cmcontinue_text = wiki_json[\"continue\"][\"cmcontinue\"]\n",
    "    else:\n",
    "      cmcontinue_text = \"\"\n",
    "      \n",
    "  return quotes_list"
   ]
  },
  {
   "cell_type": "code",
   "execution_count": 4,
   "id": "1aa6f085",
   "metadata": {},
   "outputs": [
    {
     "data": {
      "text/plain": [
       "[\"Been to many worlds, but '''none''' of them [[Earth|this strange]]. Understood '''feelings''' before, but simple feelings - like colors, bold and bright. Happy. Sad. Angry. Then... met [[Peter Parker (Earth-616)|Spider-Man]]. Feelings got '''complicated'''. Learned guilt. Also the first time I felt '''fear'''. Felt '''agony'''. Learned feeling: '''Betrayal'''. Learned '''first words''' they called me. Monster. Parasite. '''Bad'''.[...] Feels '''good''' to be a hero. Did bad things, too. Can't deny. '''[[MacDonald Gargan (Earth-616)|Mac Gargan]]''' was bad. Thoughts like poison stingers. It was a thrill to kill. '''Knew''' it was bad. Didn't care. Gargan made it '''easy'''. Got to punish Gargan for what he did. He was evil and afraid. [[Lee Price (Earth-616)|Lee Price]] was not afraid. He was a '''soldier'''. Hurt and desperate. I '''trusted''' him. '''Talked''' to him. But Lee was too strong. Didn't want to talk. Didn't want to be a hero. Wanted power. Couldn't stop the bad things he was doing. Lee was bad. '''Hurt''' me. [[Edward Brock (Earth-616)|Eddie]] hurts me too, sometimes, but Eddie is '''different'''. Eddie never means to.[...] If Eddie is good, why do we disagree? If disagree... am I a monster? Parasite? '''Bad?''' Can't be bad. Wasn't bad with [[Eugene Thompson (Earth-616)|Flash]]. Fought with '''heroes'''. '''Was''' a hero. Trained [[Mania (Symbiote) (Earth-616)|another '''symbiote''']]. Got to '''learn'''. Got to '''teach'''. Flash called me '''partner'''. Was never afraid like Spider-Man. But Flash is gone... and heroes don't '''hide'''. Not from anything... especially their '''mistakes'''.\",\n",
       " '[[Eugene Thompson (Earth-616)|Flash]]. We should probably talk.',\n",
       " \"I wasn't always a good guy. But people can change. I changed. And you know what? It was fun while it lasted.\",\n",
       " \"This... this is who we really are. '''What''' we really are. Agents of '''death.''' Not the cosmos. [[Eugene Thompson (Earth-616)|You]]'ve '''never''' been good. You've '''never''' been selfless. You've '''never''' been kind. You've always been '''venom.''' Now it's time to accept your fate... and achieve your true potential. Flash Thompson is dead. Long live <big>'''Venom.'''</big>\",\n",
       " \"Forget the darts and the knives. [[Sergei Kravinoff (Earth-616)|You]] want to kill [[Peter Parker (Earth-616)|Spider-Man]]? Do something he won't expect. [[Kraven's Last Hunt|Next time]]... try a '''gun.'''\",\n",
       " \"Though we are a benevolent species, there is no literature on [[Klyntar (Location)|my home planet]]. And though it is our goal to make [[Earth-616|the universe]] better, we create no art, no music, no '''culture.''' At least, not as other civilizations would understand it. All we have are our '''hosts --''' the beings we '''join''' with -- to forge through the cold and unforgiving cosmos with. The bond between a '''[[Symbiotes (Race)|Symbiotes]]''' and its host is '''sacred.''' They give our lives context and our existence meaning. They give us '''history.''' All we have are our hosts to tell us '''who we are.'''\",\n",
       " \"'''[[Our Lady of Saints Church|Important place]],''' [[Edward Brock (Earth-616)|Eddie]]. Bonded '''forever. No one''' will break that bond.\",\n",
       " \"Need to '''trust''' me, [[Edward Brock (Earth-616)|Eddie]]. I can be a '''hero.''' I can save us all.\",\n",
       " \"Changed my '''mind''' about her, [[Edward Brock (Earth-616)|Eddie]]. '''Like''' [[Elizabeth Allan (Earth-616)|Liz]], now. Like [[Doctor Steven (Earth-616)|fat '''doctor''']]'''.''' Understand it doesn't have to '''just be''' me and you. Understand... family.\",\n",
       " '[[Sym-Soldier Program (Earth-616)|They]] are saying \"[[Knull (Earth-616)|God]]... God is coming.\"',\n",
       " \"Again we have been hurt. Again we have been caged. Our only [[Peter Parker (Earth-616)|friend]] has been torn from us. The friend hates us now. The friend thinks he is done with us. But '''we''' are not done with '''him.'''\",\n",
       " 'I should have told you... <small>I love you, [[Edward Brock (Earth-616)|Eddie]].</small>',\n",
       " \"It's okay, there is no birth without screaming. Let it become [[Edward Brock (Earth-616)|you]]. Let us '''heal''' you.\",\n",
       " 'Trying... to... be... better... [[Dylan Brock (Earth-616)|both]]... of... [[Edward Brock (Earth-616)|you]]... better... without... me...',\n",
       " \"<big>'''[[Knull (Earth-616)|Knull]]!'''</big> He's... awake. He is free. And he is coming, [[Edward Brock (Earth-616)|Eddie]]. For all of us. For everything. [[Yahweh (Earth-616)|God]]... God help us all.\",\n",
       " '[[Virus Armor|That suit]] was modified specifically to kill [[Symbiotes (Race)|my kind]]... [[Edward Brock (Earth-616)|Eddie]]... [[MacDonald Gargan (Earth-616)|who]] is trying to kill us?',\n",
       " \"[[Hive (Symbiotes) (Earth-616)|They]] are speaking to you in our ancient tongue, [[Edward Brock (Earth-616)|Eddie]]. Because you... you defeated [[Knull (Earth-616)|the Void]]. You freed [[Symbiotes (Race)|our kind]]. You are the hive-mind now... Eddie... you... are the God of the Symbiotes... '''You''' are the [[King in Black]].\"]"
      ]
     },
     "execution_count": 4,
     "metadata": {},
     "output_type": "execute_result"
    }
   ],
   "source": [
    "get_quotes(\"Venom_(Symbiote)_(Earth-616)\")"
   ]
  },
  {
   "cell_type": "markdown",
   "id": "2219439f",
   "metadata": {},
   "source": [
    "https://marvel.fandom.com/api.php?action=query&list=categorymembers&cmtitle=Category:Peter_Parker_(Earth-616)/Quotes&cmlimit=500&prop=revisions&rvprop=content&rvslots=*&format=json"
   ]
  }
 ],
 "metadata": {
  "kernelspec": {
   "display_name": "Python 3 (ipykernel)",
   "language": "python",
   "name": "python3"
  },
  "language_info": {
   "codemirror_mode": {
    "name": "ipython",
    "version": 3
   },
   "file_extension": ".py",
   "mimetype": "text/x-python",
   "name": "python",
   "nbconvert_exporter": "python",
   "pygments_lexer": "ipython3",
   "version": "3.9.7"
  }
 },
 "nbformat": 4,
 "nbformat_minor": 5
}
