{
 "cells": [
  {
   "cell_type": "markdown",
   "id": "2de2faea",
   "metadata": {},
   "source": [
    "# Get Character quotes\n",
    "\n",
    "For doing sentiment analyse, we propose the use of the quotes of each character. For that we need to compilate all the quotes from each character.\n",
    "\n",
    "That's fine, as inside the wiki, each character has a 'Quotes' page wich can be accessed by `Category:{Name}/Quotes` (https://marvel.fandom.com/wiki/Category:Peter_Parker_(Earth-616)/Quotes). Easy right?. Well, even tho that page exist, if you try to make a query to it, you will most likely get `{{Quotes}}`"
   ]
  },
  {
   "cell_type": "code",
   "execution_count": 1,
   "id": "8fcec15e",
   "metadata": {},
   "outputs": [],
   "source": [
    "import json\n",
    "import urllib.request\n",
    "\n",
    "import re\n",
    "\n",
    "import pandas as pd\n",
    "import numpy as np\n",
    "\n",
    "import utils\n",
    "import os\n",
    "\n",
    "from concurrent.futures import ThreadPoolExecutor, as_completed\n",
    "\n",
    "from tqdm.notebook import tqdm\n",
    "tqdm.pandas()"
   ]
  },
  {
   "cell_type": "code",
   "execution_count": 2,
   "id": "862d1fcb",
   "metadata": {},
   "outputs": [
    {
     "data": {
      "text/html": [
       "<div>\n",
       "<style scoped>\n",
       "    .dataframe tbody tr th:only-of-type {\n",
       "        vertical-align: middle;\n",
       "    }\n",
       "\n",
       "    .dataframe tbody tr th {\n",
       "        vertical-align: top;\n",
       "    }\n",
       "\n",
       "    .dataframe thead th {\n",
       "        text-align: right;\n",
       "    }\n",
       "</style>\n",
       "<table border=\"1\" class=\"dataframe\">\n",
       "  <thead>\n",
       "    <tr style=\"text-align: right;\">\n",
       "      <th></th>\n",
       "      <th>title</th>\n",
       "      <th>pageid</th>\n",
       "      <th>imglink</th>\n",
       "      <th>gender</th>\n",
       "      <th>links</th>\n",
       "    </tr>\n",
       "  </thead>\n",
       "  <tbody>\n",
       "    <tr>\n",
       "      <th>0</th>\n",
       "      <td>'Spinner (Earth-616)</td>\n",
       "      <td>322600</td>\n",
       "      <td>'Spinner (Earth-616) from Marvel Comics Presen...</td>\n",
       "      <td>['Male']</td>\n",
       "      <td>[]</td>\n",
       "    </tr>\n",
       "    <tr>\n",
       "      <th>1</th>\n",
       "      <td>01100010 01110010 01110101 01110100 01100101 (...</td>\n",
       "      <td>1053805</td>\n",
       "      <td>01100010 01110010 01110101 01110100 01100101 (...</td>\n",
       "      <td>['']</td>\n",
       "      <td>['Cosmo (Dog) (Earth-616)', 'Rocket Raccoon (E...</td>\n",
       "    </tr>\n",
       "    <tr>\n",
       "      <th>2</th>\n",
       "      <td>107 (Earth-616)</td>\n",
       "      <td>116257</td>\n",
       "      <td>107 (Earth-616) from Justice Four Balance Vol ...</td>\n",
       "      <td>['Male']</td>\n",
       "      <td>['Vance Astrovik (Earth-616)', 'Vance Astrovik...</td>\n",
       "    </tr>\n",
       "    <tr>\n",
       "      <th>3</th>\n",
       "      <td>11-Ball (Earth-616)</td>\n",
       "      <td>543479</td>\n",
       "      <td>11-Ball (Earth-616) from Sleepwalker Vol 1 2 0...</td>\n",
       "      <td>['Male']</td>\n",
       "      <td>['Jeff Hagees (Earth-616)', 'Jeff Hagees (Eart...</td>\n",
       "    </tr>\n",
       "    <tr>\n",
       "      <th>4</th>\n",
       "      <td>115 (Legion Personality) (Earth-616)</td>\n",
       "      <td>624448</td>\n",
       "      <td>115 (Legion Personality) (Earth-616) from New ...</td>\n",
       "      <td>['Female']</td>\n",
       "      <td>['David Haller (Earth-616)', 'David Haller (Ea...</td>\n",
       "    </tr>\n",
       "  </tbody>\n",
       "</table>\n",
       "</div>"
      ],
      "text/plain": [
       "                                               title   pageid  \\\n",
       "0                               'Spinner (Earth-616)   322600   \n",
       "1  01100010 01110010 01110101 01110100 01100101 (...  1053805   \n",
       "2                                    107 (Earth-616)   116257   \n",
       "3                                11-Ball (Earth-616)   543479   \n",
       "4               115 (Legion Personality) (Earth-616)   624448   \n",
       "\n",
       "                                             imglink      gender  \\\n",
       "0  'Spinner (Earth-616) from Marvel Comics Presen...    ['Male']   \n",
       "1  01100010 01110010 01110101 01110100 01100101 (...        ['']   \n",
       "2  107 (Earth-616) from Justice Four Balance Vol ...    ['Male']   \n",
       "3  11-Ball (Earth-616) from Sleepwalker Vol 1 2 0...    ['Male']   \n",
       "4  115 (Legion Personality) (Earth-616) from New ...  ['Female']   \n",
       "\n",
       "                                               links  \n",
       "0                                                 []  \n",
       "1  ['Cosmo (Dog) (Earth-616)', 'Rocket Raccoon (E...  \n",
       "2  ['Vance Astrovik (Earth-616)', 'Vance Astrovik...  \n",
       "3  ['Jeff Hagees (Earth-616)', 'Jeff Hagees (Eart...  \n",
       "4  ['David Haller (Earth-616)', 'David Haller (Ea...  "
      ]
     },
     "execution_count": 2,
     "metadata": {},
     "output_type": "execute_result"
    }
   ],
   "source": [
    "char_df = pd.read_csv(\"../data/marvel_characters.csv\", index_col=0)\n",
    "char_df.head()"
   ]
  },
  {
   "cell_type": "code",
   "execution_count": 3,
   "id": "0cd832a3",
   "metadata": {},
   "outputs": [],
   "source": [
    "def search_quotes(titles: list):\n",
    "  baseurl = \"https://marvel.fandom.com/api.php?\"\n",
    "  action = \"action=query\"\n",
    "  title = f\"titles={'|'.join([urllib.parse.quote_plus(title.replace(' ', '_')) for title in titles])}\"\n",
    "   \n",
    "  content = \"prop=revisions&rvprop=content&rvslots=*\"\n",
    "  dataformat =\"format=json\"\n",
    "\n",
    "  query = \"{}{}&{}&{}&{}\".format(baseurl, action, content, title, dataformat)\n",
    "\n",
    "  wikiresponse = urllib.request.urlopen(query)\n",
    "  wikidata = wikiresponse.read()\n",
    "  wikitext = wikidata.decode('utf-8')\n",
    "  return json.loads(wikitext)"
   ]
  },
  {
   "cell_type": "markdown",
   "id": "83100ecc",
   "metadata": {},
   "source": [
    "# Downloading all quotes from the characters in  ``data/marvel_characters.csv``\n",
    "\n",
    "To do this we multithread to do simultanious queries, and query for 50 titles at a time, as that is the max amount of titles allowed, and the background DB on the wiki page is much faster, than the internet connection between our machine and theirs."
   ]
  },
  {
   "cell_type": "code",
   "execution_count": 4,
   "id": "6600789b",
   "metadata": {},
   "outputs": [
    {
     "name": "stdout",
     "output_type": "stream",
     "text": [
      "Generated 600 chunks!\n"
     ]
    },
    {
     "data": {
      "application/vnd.jupyter.widget-view+json": {
       "model_id": "cfdba790273646a489bb85f5f2ed56a6",
       "version_major": 2,
       "version_minor": 0
      },
      "text/plain": [
       "  0%|          | 0/600 [00:00<?, ?it/s]"
      ]
     },
     "metadata": {},
     "output_type": "display_data"
    }
   ],
   "source": [
    "quote_path = \"../data/character_quotes/\"\n",
    "\n",
    "def get_character_quotes(name: str):\n",
    "  # This is a little bit hacky, but works\n",
    "  cmcontinue_text = \"\"\n",
    "  quote_titles = []\n",
    "\n",
    "  # Breaks when there are no more cm_continues\n",
    "  while True:\n",
    "    baseurl = \"https://marvel.fandom.com/api.php?\"\n",
    "    args = {\n",
    "      \"action\"      : \"action=query&list=categorymembers\",\n",
    "      \"q_title\"     : \"cmtitle=Category:{}/Quotes\".format(urllib.parse.quote_plus(name.replace(\" \", \"_\"))),\n",
    "      \"content\"     : \"prop=revisions&rvprop=content&rvslots=*\",\n",
    "      \"dataformat\"  : \"format=json\",\n",
    "      \"cmcontinue\"  :  \"cmlimit=max&cmcontinue={}\".format(cmcontinue_text),\n",
    "    }\n",
    "    \n",
    "    query = f\"{baseurl}{'&'.join(args.values())}\"\n",
    "\n",
    "    wikiresponse = urllib.request.urlopen(query)\n",
    "    wikitext = wikiresponse.read().decode('utf-8')\n",
    "    wiki_json = json.loads(wikitext)\n",
    "    \n",
    "    quote_titles += [page[\"title\"] for page in wiki_json[\"query\"][\"categorymembers\"]]\n",
    "\n",
    "    if \"continue\" in list(wiki_json.keys()):\n",
    "      cmcontinue_text = wiki_json[\"continue\"][\"cmcontinue\"]\n",
    "    else: break\n",
    "  \n",
    "  quote_title_chunks = utils.generate_chunks(quote_titles)\n",
    "  quotes = []\n",
    "\n",
    "  for chunk in quote_title_chunks:\n",
    "    quote_data = search_quotes(chunk)\n",
    "    for content in quote_data[\"query\"][\"pages\"].values():\n",
    "      content  = content[\"revisions\"][-1][\"slots\"][\"main\"][\"*\"]\n",
    "      quotes += re.findall(r\"Quotation.*?= (.*?)\\n\", content)\n",
    "  \n",
    "  filename = utils.generate_filename(name)\n",
    "  with open(f\"{quote_path}{filename}.json\", \"w\") as f:\n",
    "    json.dump(quotes, f, indent = 4)\n",
    "\n",
    "def get_chunk_quotes(chunk: list):\n",
    "  for name in chunk:\n",
    "    get_character_quotes(name)\n",
    "  return\n",
    "\n",
    "def get_quotes(names: list, max_workers=16):\n",
    "  files = set(os.listdir(quote_path))\n",
    "  missing_names = list(\n",
    "    filter(lambda x: f\"{utils.generate_filename(x)}.json\" not in files,\n",
    "    names)\n",
    "  )\n",
    "\n",
    "  if len(missing_names) == 0:\n",
    "    print(\"No missign quotes found 😊\")\n",
    "    return\n",
    "  \n",
    "  chunks = utils.generate_chunks(missing_names)\n",
    "  print (f\"Generated {len(chunks)} chunks!\")\n",
    "  with tqdm(total=len(chunks)) as pbar:\n",
    "    with ThreadPoolExecutor(max_workers=max_workers) as ex:\n",
    "      futures = [ex.submit(get_chunk_quotes, chunk)\n",
    "                  for chunk in chunks]\n",
    "      for future in as_completed(futures):\n",
    "        pbar.update(1)\n",
    "\n",
    "\n",
    "get_quotes(char_df.title.values , max_workers=24)"
   ]
  },
  {
   "cell_type": "markdown",
   "id": "7fc30a7a",
   "metadata": {},
   "source": [
    "https://marvel.fandom.com/api.php?action=query&list=categorymembers&cmtitle=Category:Peter_Parker_(Earth-616)/Quotes&cmlimit=500&prop=revisions&rvprop=content&rvslots=*&format=json"
   ]
  }
 ],
 "metadata": {
  "interpreter": {
   "hash": "3405df15e4953545831bbb8174ce89dd7632c146c43537a8990c777f42b240d0"
  },
  "kernelspec": {
   "display_name": "Python 3 (ipykernel)",
   "language": "python",
   "name": "python3"
  },
  "language_info": {
   "codemirror_mode": {
    "name": "ipython",
    "version": 3
   },
   "file_extension": ".py",
   "mimetype": "text/x-python",
   "name": "python",
   "nbconvert_exporter": "python",
   "pygments_lexer": "ipython3",
   "version": "3.9.7"
  }
 },
 "nbformat": 4,
 "nbformat_minor": 5
}
