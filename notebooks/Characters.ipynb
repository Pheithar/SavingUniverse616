{
 "cells": [
  {
   "cell_type": "code",
   "execution_count": 8,
   "metadata": {},
   "outputs": [],
   "source": [
    "import json\r\n",
    "\r\n",
    "import re\r\n",
    "import os\r\n",
    "\r\n",
    "import pandas as pd\r\n",
    "import numpy as np\r\n",
    "\r\n",
    "import utils\r\n",
    "\r\n",
    "import networkx as nx\r\n",
    "\r\n",
    "from tqdm.notebook import tqdm\r\n",
    "tqdm.pandas()"
   ]
  },
  {
   "cell_type": "code",
   "execution_count": 10,
   "metadata": {},
   "outputs": [
    {
     "data": {
      "text/html": [
       "<div>\n",
       "<style scoped>\n",
       "    .dataframe tbody tr th:only-of-type {\n",
       "        vertical-align: middle;\n",
       "    }\n",
       "\n",
       "    .dataframe tbody tr th {\n",
       "        vertical-align: top;\n",
       "    }\n",
       "\n",
       "    .dataframe thead th {\n",
       "        text-align: right;\n",
       "    }\n",
       "</style>\n",
       "<table border=\"1\" class=\"dataframe\">\n",
       "  <thead>\n",
       "    <tr style=\"text-align: right;\">\n",
       "      <th></th>\n",
       "      <th>title</th>\n",
       "      <th>pageid</th>\n",
       "      <th>imglink</th>\n",
       "      <th>gender</th>\n",
       "      <th>links</th>\n",
       "    </tr>\n",
       "  </thead>\n",
       "  <tbody>\n",
       "    <tr>\n",
       "      <th>0</th>\n",
       "      <td>'Spinner (Earth-616)</td>\n",
       "      <td>322600</td>\n",
       "      <td>'Spinner (Earth-616) from Marvel Comics Presen...</td>\n",
       "      <td>['Male']</td>\n",
       "      <td>[]</td>\n",
       "    </tr>\n",
       "    <tr>\n",
       "      <th>1</th>\n",
       "      <td>01100010 01110010 01110101 01110100 01100101 (...</td>\n",
       "      <td>1053805</td>\n",
       "      <td>01100010 01110010 01110101 01110100 01100101 (...</td>\n",
       "      <td>['']</td>\n",
       "      <td>['Cosmo (Dog) (Earth-616)', 'Rocket Raccoon (E...</td>\n",
       "    </tr>\n",
       "  </tbody>\n",
       "</table>\n",
       "</div>"
      ],
      "text/plain": [
       "                                               title   pageid  \\\n",
       "0                               'Spinner (Earth-616)   322600   \n",
       "1  01100010 01110010 01110101 01110100 01100101 (...  1053805   \n",
       "\n",
       "                                             imglink    gender  \\\n",
       "0  'Spinner (Earth-616) from Marvel Comics Presen...  ['Male']   \n",
       "1  01100010 01110010 01110101 01110100 01100101 (...      ['']   \n",
       "\n",
       "                                               links  \n",
       "0                                                 []  \n",
       "1  ['Cosmo (Dog) (Earth-616)', 'Rocket Raccoon (E...  "
      ]
     },
     "execution_count": 10,
     "metadata": {},
     "output_type": "execute_result"
    }
   ],
   "source": [
    "df_characters = pd.read_csv(\"../data/marvel_characters.csv\", index_col=0)\r\n",
    "df_characters.head(2)"
   ]
  },
  {
   "cell_type": "code",
   "execution_count": 16,
   "metadata": {},
   "outputs": [],
   "source": [
    "nodes = df_characters.title.values\r\n"
   ]
  },
  {
   "cell_type": "code",
   "execution_count": 19,
   "metadata": {},
   "outputs": [],
   "source": [
    "G = nx.Graph()\r\n",
    "G.add_nodes_from(nodes)"
   ]
  },
  {
   "cell_type": "code",
   "execution_count": null,
   "metadata": {},
   "outputs": [],
   "source": []
  }
 ],
 "metadata": {
  "interpreter": {
   "hash": "3405df15e4953545831bbb8174ce89dd7632c146c43537a8990c777f42b240d0"
  },
  "kernelspec": {
   "display_name": "Python 3.9.1 64-bit ('venv': venv)",
   "name": "python3"
  },
  "language_info": {
   "codemirror_mode": {
    "name": "ipython",
    "version": 3
   },
   "file_extension": ".py",
   "mimetype": "text/x-python",
   "name": "python",
   "nbconvert_exporter": "python",
   "pygments_lexer": "ipython3",
   "version": "3.9.1"
  },
  "orig_nbformat": 4
 },
 "nbformat": 4,
 "nbformat_minor": 2
}