{
 "cells": [
  {
   "cell_type": "markdown",
   "metadata": {},
   "source": [
    "# Marvel Network\n",
    "\n",
    "Now that we have a clean dataset, we can actually build the network."
   ]
  },
  {
   "cell_type": "code",
   "execution_count": 1,
   "metadata": {},
   "outputs": [],
   "source": [
    "import pandas as pd\n",
    "\n",
    "import networkx as nx\n",
    "\n",
    "import matplotlib.pyplot as plt\n",
    "\n",
    "from tqdm.notebook import tqdm\n",
    "\n",
    "import ast"
   ]
  },
  {
   "cell_type": "code",
   "execution_count": 2,
   "metadata": {},
   "outputs": [],
   "source": [
    "tqdm.pandas()"
   ]
  },
  {
   "cell_type": "code",
   "execution_count": 3,
   "metadata": {},
   "outputs": [
    {
     "data": {
      "application/vnd.jupyter.widget-view+json": {
       "model_id": "54e66551697b404c93f109a86efa57ca",
       "version_major": 2,
       "version_minor": 0
      },
      "text/plain": [
       "  0%|          | 0/1295 [00:00<?, ?it/s]"
      ]
     },
     "metadata": {},
     "output_type": "display_data"
    },
    {
     "data": {
      "text/html": [
       "<div>\n",
       "<style scoped>\n",
       "    .dataframe tbody tr th:only-of-type {\n",
       "        vertical-align: middle;\n",
       "    }\n",
       "\n",
       "    .dataframe tbody tr th {\n",
       "        vertical-align: top;\n",
       "    }\n",
       "\n",
       "    .dataframe thead th {\n",
       "        text-align: right;\n",
       "    }\n",
       "</style>\n",
       "<table border=\"1\" class=\"dataframe\">\n",
       "  <thead>\n",
       "    <tr style=\"text-align: right;\">\n",
       "      <th></th>\n",
       "      <th>name</th>\n",
       "      <th>links</th>\n",
       "      <th>number_links</th>\n",
       "    </tr>\n",
       "  </thead>\n",
       "  <tbody>\n",
       "    <tr>\n",
       "      <th>0</th>\n",
       "      <td>Clown_(Franklin)_(Earth-616)</td>\n",
       "      <td>[]</td>\n",
       "      <td>0</td>\n",
       "    </tr>\n",
       "    <tr>\n",
       "      <th>1</th>\n",
       "      <td>Nicos_Pelletier_(Earth-616)</td>\n",
       "      <td>[Wolfgang_von_Strucker_(Earth-616)]</td>\n",
       "      <td>1</td>\n",
       "    </tr>\n",
       "    <tr>\n",
       "      <th>2</th>\n",
       "      <td>Marduk_Kurios_(Earth-616)</td>\n",
       "      <td>[Cul_Borson_(Earth-616), Satannish_(Earth-616)...</td>\n",
       "      <td>7</td>\n",
       "    </tr>\n",
       "    <tr>\n",
       "      <th>3</th>\n",
       "      <td>Deltite_(Earth-616)</td>\n",
       "      <td>[Arnim_Zola_(Earth-616), Nicholas_Fury_(Earth-...</td>\n",
       "      <td>9</td>\n",
       "    </tr>\n",
       "    <tr>\n",
       "      <th>4</th>\n",
       "      <td>Medusalith_Amaquelin_(Earth-616)</td>\n",
       "      <td>[Maximus_Boltagon_(Earth-616), Ororo_Munroe_(E...</td>\n",
       "      <td>35</td>\n",
       "    </tr>\n",
       "    <tr>\n",
       "      <th>...</th>\n",
       "      <td>...</td>\n",
       "      <td>...</td>\n",
       "      <td>...</td>\n",
       "    </tr>\n",
       "    <tr>\n",
       "      <th>1290</th>\n",
       "      <td>Bond_(Earth-616)</td>\n",
       "      <td>[Candra_(Earth-616)]</td>\n",
       "      <td>1</td>\n",
       "    </tr>\n",
       "    <tr>\n",
       "      <th>1291</th>\n",
       "      <td>Anthony_Stark_(Earth-616)</td>\n",
       "      <td>[Veranke_(Earth-616), Mandarin_(Earth-616), Le...</td>\n",
       "      <td>71</td>\n",
       "    </tr>\n",
       "    <tr>\n",
       "      <th>1292</th>\n",
       "      <td>Johnny_Watts_(Earth-616)</td>\n",
       "      <td>[Noh-Varr_(Earth-200080), Clinton_Barton_(Eart...</td>\n",
       "      <td>4</td>\n",
       "    </tr>\n",
       "    <tr>\n",
       "      <th>1293</th>\n",
       "      <td>Karl_Lykos_(Earth-616)</td>\n",
       "      <td>[Ororo_Munroe_(Earth-616), Mortimer_Toynbee_(E...</td>\n",
       "      <td>20</td>\n",
       "    </tr>\n",
       "    <tr>\n",
       "      <th>1294</th>\n",
       "      <td>Tapping_Tommy_(Earth-616)</td>\n",
       "      <td>[Stephen_Strange_(Earth-616), Brunnhilde_(Eart...</td>\n",
       "      <td>4</td>\n",
       "    </tr>\n",
       "  </tbody>\n",
       "</table>\n",
       "<p>1295 rows × 3 columns</p>\n",
       "</div>"
      ],
      "text/plain": [
       "                                  name  \\\n",
       "0         Clown_(Franklin)_(Earth-616)   \n",
       "1          Nicos_Pelletier_(Earth-616)   \n",
       "2            Marduk_Kurios_(Earth-616)   \n",
       "3                  Deltite_(Earth-616)   \n",
       "4     Medusalith_Amaquelin_(Earth-616)   \n",
       "...                                ...   \n",
       "1290                  Bond_(Earth-616)   \n",
       "1291         Anthony_Stark_(Earth-616)   \n",
       "1292          Johnny_Watts_(Earth-616)   \n",
       "1293            Karl_Lykos_(Earth-616)   \n",
       "1294         Tapping_Tommy_(Earth-616)   \n",
       "\n",
       "                                                  links  number_links  \n",
       "0                                                    []             0  \n",
       "1                   [Wolfgang_von_Strucker_(Earth-616)]             1  \n",
       "2     [Cul_Borson_(Earth-616), Satannish_(Earth-616)...             7  \n",
       "3     [Arnim_Zola_(Earth-616), Nicholas_Fury_(Earth-...             9  \n",
       "4     [Maximus_Boltagon_(Earth-616), Ororo_Munroe_(E...            35  \n",
       "...                                                 ...           ...  \n",
       "1290                               [Candra_(Earth-616)]             1  \n",
       "1291  [Veranke_(Earth-616), Mandarin_(Earth-616), Le...            71  \n",
       "1292  [Noh-Varr_(Earth-200080), Clinton_Barton_(Eart...             4  \n",
       "1293  [Ororo_Munroe_(Earth-616), Mortimer_Toynbee_(E...            20  \n",
       "1294  [Stephen_Strange_(Earth-616), Brunnhilde_(Eart...             4  \n",
       "\n",
       "[1295 rows x 3 columns]"
      ]
     },
     "execution_count": 3,
     "metadata": {},
     "output_type": "execute_result"
    }
   ],
   "source": [
    "characters_df = pd.read_csv(\"../data/marvel_characters.csv\")\n",
    "\n",
    "characters_df[\"links\"] = characters_df[\"links\"].progress_apply(ast.literal_eval)\n",
    "\n",
    "characters_df"
   ]
  },
  {
   "cell_type": "code",
   "execution_count": 4,
   "metadata": {},
   "outputs": [],
   "source": [
    "def connect_node(row, g):\r\n",
    "  g.add_node(row[\"name\"])\r\n",
    "  for link in row[\"links\"]:\r\n",
    "    g.add_edge(row[\"name\"], link)\r\n",
    "\r\n",
    "def createGraph(df, directed=False):\r\n",
    "  \r\n",
    "  g = nx.Graph()\r\n",
    "  \r\n",
    "  if directed:\r\n",
    "    g = nx.DiGraph()\r\n",
    "\r\n",
    "  _ = df.progress_apply(connect_node, g=g, axis=1)\r\n",
    "    \r\n",
    "  return g"
   ]
  },
  {
   "cell_type": "code",
   "execution_count": 5,
   "metadata": {},
   "outputs": [
    {
     "data": {
      "application/vnd.jupyter.widget-view+json": {
       "model_id": "80171eb3389e46f99668556baccb6d82",
       "version_major": 2,
       "version_minor": 0
      },
      "text/plain": [
       "  0%|          | 0/1295 [00:00<?, ?it/s]"
      ]
     },
     "metadata": {},
     "output_type": "display_data"
    }
   ],
   "source": [
    "g = createGraph(characters_df)"
   ]
  },
  {
   "cell_type": "markdown",
   "metadata": {},
   "source": [
    "Now that we have a preliminar node, we can try to see the degree distribution, number of nodes and edges, to try to start understanding the graph."
   ]
  },
  {
   "cell_type": "code",
   "execution_count": 6,
   "metadata": {},
   "outputs": [
    {
     "name": "stdout",
     "output_type": "stream",
     "text": [
      "Graph basic stats:\n",
      "\tNumber of nodes: 1295\n",
      "\tNumber of edges: 15992\n",
      "\tAverage degree: 24.70\n",
      "\n",
      "\tMost connected node: Steven_Rogers_(Earth-616) with a degree of 301\n"
     ]
    }
   ],
   "source": [
    "print(\"Graph basic stats:\")\n",
    "print(f\"\\tNumber of nodes: {len(g.nodes)}\")\n",
    "print(f\"\\tNumber of edges: {len(g.edges)}\")\n",
    "print(f\"\\tAverage degree: {sum(x[1] for x in g.degree)/len(g.degree):.2f}\")\n",
    "print()\n",
    "print(f\"\\tMost connected node: {max(g.degree, key=lambda x: x[1])[0]} \\\n",
    "with a degree of {max(g.degree, key=lambda x: x[1])[1]}\")"
   ]
  },
  {
   "cell_type": "markdown",
   "metadata": {},
   "source": [
    "Another relevant information that can be easily obtained is the top 5 characters with the bigger number of links in their wiki page"
   ]
  },
  {
   "cell_type": "code",
   "execution_count": 7,
   "metadata": {},
   "outputs": [
    {
     "data": {
      "text/html": [
       "<div>\n",
       "<style scoped>\n",
       "    .dataframe tbody tr th:only-of-type {\n",
       "        vertical-align: middle;\n",
       "    }\n",
       "\n",
       "    .dataframe tbody tr th {\n",
       "        vertical-align: top;\n",
       "    }\n",
       "\n",
       "    .dataframe thead th {\n",
       "        text-align: right;\n",
       "    }\n",
       "</style>\n",
       "<table border=\"1\" class=\"dataframe\">\n",
       "  <thead>\n",
       "    <tr style=\"text-align: right;\">\n",
       "      <th></th>\n",
       "      <th>name</th>\n",
       "      <th>links</th>\n",
       "      <th>number_links</th>\n",
       "    </tr>\n",
       "  </thead>\n",
       "  <tbody>\n",
       "    <tr>\n",
       "      <th>618</th>\n",
       "      <td>Bruce_Banner_(Earth-616)</td>\n",
       "      <td>[Cul_Borson_(Earth-616), Void_(Dark_Sentry)_(E...</td>\n",
       "      <td>145</td>\n",
       "    </tr>\n",
       "    <tr>\n",
       "      <th>307</th>\n",
       "      <td>James_Howlett_(Earth-616)</td>\n",
       "      <td>[Katherine_Power_(Earth-616), Evan_Sabahnur_(E...</td>\n",
       "      <td>120</td>\n",
       "    </tr>\n",
       "    <tr>\n",
       "      <th>716</th>\n",
       "      <td>William_Baker_(Earth-616)</td>\n",
       "      <td>[Natalia_Romanova_(Earth-616), Alicia_Masters_...</td>\n",
       "      <td>117</td>\n",
       "    </tr>\n",
       "    <tr>\n",
       "      <th>881</th>\n",
       "      <td>Max_Eisenhardt_(Earth-616)</td>\n",
       "      <td>[Ororo_Munroe_(Earth-616), Illyana_Rasputina_(...</td>\n",
       "      <td>103</td>\n",
       "    </tr>\n",
       "    <tr>\n",
       "      <th>545</th>\n",
       "      <td>Charles_Xavier_(Earth-616)</td>\n",
       "      <td>[Void_(Dark_Sentry)_(Earth-616), Ororo_Munroe_...</td>\n",
       "      <td>101</td>\n",
       "    </tr>\n",
       "  </tbody>\n",
       "</table>\n",
       "</div>"
      ],
      "text/plain": [
       "                           name  \\\n",
       "618    Bruce_Banner_(Earth-616)   \n",
       "307   James_Howlett_(Earth-616)   \n",
       "716   William_Baker_(Earth-616)   \n",
       "881  Max_Eisenhardt_(Earth-616)   \n",
       "545  Charles_Xavier_(Earth-616)   \n",
       "\n",
       "                                                 links  number_links  \n",
       "618  [Cul_Borson_(Earth-616), Void_(Dark_Sentry)_(E...           145  \n",
       "307  [Katherine_Power_(Earth-616), Evan_Sabahnur_(E...           120  \n",
       "716  [Natalia_Romanova_(Earth-616), Alicia_Masters_...           117  \n",
       "881  [Ororo_Munroe_(Earth-616), Illyana_Rasputina_(...           103  \n",
       "545  [Void_(Dark_Sentry)_(Earth-616), Ororo_Munroe_...           101  "
      ]
     },
     "execution_count": 7,
     "metadata": {},
     "output_type": "execute_result"
    }
   ],
   "source": [
    "characters_df.sort_values(by=[\"number_links\"], ascending=False).head()"
   ]
  },
  {
   "cell_type": "code",
   "execution_count": null,
   "metadata": {},
   "outputs": [],
   "source": []
  }
 ],
 "metadata": {
  "interpreter": {
   "hash": "3405df15e4953545831bbb8174ce89dd7632c146c43537a8990c777f42b240d0"
  },
  "kernelspec": {
   "display_name": "Python 3.9.1 64-bit ('venv')",
   "name": "python3"
  },
  "language_info": {
   "codemirror_mode": {
    "name": "ipython",
    "version": 3
   },
   "file_extension": ".py",
   "mimetype": "text/x-python",
   "name": "python",
   "nbconvert_exporter": "python",
   "pygments_lexer": "ipython3",
   "version": "3.9.1"
  }
 },
 "nbformat": 4,
 "nbformat_minor": 5
}