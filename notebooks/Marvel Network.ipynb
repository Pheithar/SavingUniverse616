{
 "cells": [
  {
   "cell_type": "markdown",
   "id": "cab222f2",
   "metadata": {},
   "source": [
    "# Marvel Network\n",
    "\n",
    "Now that we have a clean dataset, we can actually build the network."
   ]
  },
  {
   "cell_type": "code",
   "execution_count": null,
   "id": "c5917227",
   "metadata": {},
   "outputs": [],
   "source": [
    "import pandas as pd\n",
    "\n",
    "import networkx as nx\n",
    "\n",
    "import matplotlib.pyplot as plt\n",
    "\n",
    "from tqdm.notebook import tqdm\n",
    "\n",
    "import ast"
   ]
  },
  {
   "cell_type": "code",
   "execution_count": null,
   "id": "f977d5b8",
   "metadata": {},
   "outputs": [],
   "source": [
    "tqdm.pandas()"
   ]
  },
  {
   "cell_type": "code",
   "execution_count": null,
   "id": "bbb902bc",
   "metadata": {},
   "outputs": [],
   "source": [
    "characters_df = pd.read_csv(\"../data/marvel_characters.csv\")\n",
    "\n",
    "characters_df[\"links\"] = characters_df[\"links\"].progress_apply(ast.literal_eval)\n",
    "\n",
    "characters_df"
   ]
  },
  {
   "cell_type": "code",
   "execution_count": null,
   "id": "ef36aa8e",
   "metadata": {},
   "outputs": [],
   "source": [
    "def connect_node(row, g):\n",
    "  g.add_node(row[\"name\"])\n",
    "  \n",
    "  for link in row[\"links\"]:\n",
    "    g.add_edge(row[\"name\"], link)\n",
    "\n",
    "def createGraph(df, directed=False):\n",
    "  \n",
    "  g = nx.Graph()\n",
    "  \n",
    "  if directed:\n",
    "    g = nx.DiGraph()\n",
    "\n",
    "  _ = df.progress_apply(connect_node, g=g, axis=1)\n",
    "    \n",
    "  return g"
   ]
  },
  {
   "cell_type": "code",
   "execution_count": null,
   "id": "9dc957da",
   "metadata": {},
   "outputs": [],
   "source": [
    "g = createGraph(characters_df)"
   ]
  },
  {
   "cell_type": "markdown",
   "id": "01e9e10f",
   "metadata": {},
   "source": [
    "Now that we have a preliminar node, we can try to see the degree distribution, number of nodes and edges, to try to start understanding the graph."
   ]
  },
  {
   "cell_type": "code",
   "execution_count": null,
   "id": "43100ecf",
   "metadata": {},
   "outputs": [],
   "source": [
    "print(\"Graph basic stats:\")\n",
    "print(f\"\\tNumber of nodes: {len(g.nodes)}\")\n",
    "print(f\"\\tNumber of edges: {len(g.edges)}\")\n",
    "print(f\"\\tAverage degree: {sum(x[1] for x in g.degree)/len(g.degree):.2f}\")\n",
    "print()\n",
    "print(f\"\\tMost connected node: {max(g.degree, key=lambda x: x[1])[0]} \\\n",
    "with a degree of {max(g.degree, key=lambda x: x[1])[1]}\")"
   ]
  },
  {
   "cell_type": "markdown",
   "id": "a0871369",
   "metadata": {},
   "source": [
    "Another relevant information that can be easily obtained is the top 5 characters with the bigger number of links in their wiki page"
   ]
  },
  {
   "cell_type": "code",
   "execution_count": null,
   "id": "d6c9ca7c",
   "metadata": {},
   "outputs": [],
   "source": [
    "characters_df.sort_values(by=[\"number_links\"], ascending=False).head()"
   ]
  },
  {
   "cell_type": "code",
   "execution_count": null,
   "id": "5c79005b",
   "metadata": {},
   "outputs": [],
   "source": []
  }
 ],
 "metadata": {
  "kernelspec": {
   "display_name": "Python 3 (ipykernel)",
   "language": "python",
   "name": "python3"
  },
  "language_info": {
   "codemirror_mode": {
    "name": "ipython",
    "version": 3
   },
   "file_extension": ".py",
   "mimetype": "text/x-python",
   "name": "python",
   "nbconvert_exporter": "python",
   "pygments_lexer": "ipython3",
   "version": "3.9.7"
  }
 },
 "nbformat": 4,
 "nbformat_minor": 5
}
