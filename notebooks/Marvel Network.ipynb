{
 "cells": [
  {
   "cell_type": "markdown",
   "id": "e8b4364b",
   "metadata": {},
   "source": [
    "# Marvel Network\n",
    "\n",
    "Now that we have a clean dataset, we can actually build the network."
   ]
  },
  {
   "cell_type": "code",
   "execution_count": null,
   "id": "bbb55429",
   "metadata": {},
   "outputs": [],
   "source": [
    "import pandas as pd\n",
    "import numpy as np\n",
    "\n",
    "import networkx as nx\n",
    "\n",
    "import matplotlib.pyplot as plt\n",
    "from matplotlib.colors import ListedColormap\n",
    "\n",
    "from tqdm.notebook import tqdm\n",
    "\n",
    "import ast\n",
    "\n",
    "from fa2 import ForceAtlas2"
   ]
  },
  {
   "cell_type": "code",
   "execution_count": null,
   "id": "9305aaa8",
   "metadata": {},
   "outputs": [],
   "source": [
    "tqdm.pandas()"
   ]
  },
  {
   "cell_type": "code",
   "execution_count": null,
   "id": "b54ae48d",
   "metadata": {},
   "outputs": [],
   "source": [
    "characters_df = pd.read_csv(\"../data/marvel_characters.csv\")\n",
    "\n",
    "characters_df[\"links\"] = characters_df[\"links\"].progress_apply(ast.literal_eval)\n",
    "characters_df[\"leader\"] = characters_df[\"leader\"].progress_apply(ast.literal_eval)\n",
    "characters_df[\"member\"] = characters_df[\"member\"].progress_apply(ast.literal_eval)\n",
    "characters_df[\"ally\"] = characters_df[\"ally\"].progress_apply(ast.literal_eval)\n",
    "characters_df[\"enemy\"] = characters_df[\"enemy\"].progress_apply(ast.literal_eval)\n",
    "\n",
    "characters_df"
   ]
  },
  {
   "cell_type": "code",
   "execution_count": null,
   "id": "c7e018fa",
   "metadata": {},
   "outputs": [],
   "source": [
    "def connect_node(row, g):\n",
    "  g.add_node(row[\"name\"], leader=row[\"leader\"], member=row[\"member\"], ally=row[\"ally\"], enemy=row[\"enemy\"])\n",
    "  \n",
    "  for link in row[\"links\"]:\n",
    "    g.add_edge(row[\"name\"], link)\n",
    "\n",
    "def createGraph(df, directed=False):\n",
    "  \n",
    "  g = nx.Graph()\n",
    "  \n",
    "  if directed:\n",
    "    g = nx.DiGraph()\n",
    "\n",
    "  _ = df.progress_apply(connect_node, g=g, axis=1)\n",
    "    \n",
    "  return g"
   ]
  },
  {
   "cell_type": "code",
   "execution_count": null,
   "id": "ad00a262",
   "metadata": {},
   "outputs": [],
   "source": [
    "g = createGraph(characters_df)"
   ]
  },
  {
   "cell_type": "markdown",
   "id": "3816bc32",
   "metadata": {},
   "source": [
    "Now that we have a preliminar node, we can try to see the degree distribution, number of nodes and edges, to try to start understanding the graph."
   ]
  },
  {
   "cell_type": "code",
   "execution_count": null,
   "id": "cbb17e8e",
   "metadata": {},
   "outputs": [],
   "source": [
    "print(\"Graph basic stats:\")\n",
    "print(f\"\\tNumber of nodes: {len(g.nodes)}\")\n",
    "print(f\"\\tNumber of edges: {len(g.edges)}\")\n",
    "print(f\"\\tAverage degree: {sum(x[1] for x in g.degree)/len(g.degree):.2f}\")\n",
    "print()\n",
    "print(f\"\\tMost connected node: {max(g.degree, key=lambda x: x[1])[0]} \\\n",
    "with a degree of {max(g.degree, key=lambda x: x[1])[1]}\")"
   ]
  },
  {
   "cell_type": "markdown",
   "id": "09f01537",
   "metadata": {},
   "source": [
    "Another relevant information that can be easily obtained is the top 5 characters with the bigger number of links in their wiki page"
   ]
  },
  {
   "cell_type": "code",
   "execution_count": null,
   "id": "06208a21",
   "metadata": {},
   "outputs": [],
   "source": [
    "characters_df.sort_values(by=[\"number_links\"], ascending=False).head()"
   ]
  },
  {
   "cell_type": "markdown",
   "id": "dc5a8921",
   "metadata": {},
   "source": [
    "We can display information about the teams too."
   ]
  },
  {
   "cell_type": "code",
   "execution_count": null,
   "id": "dd094072",
   "metadata": {},
   "outputs": [],
   "source": [
    "print(\"The Leader:\")\n",
    "print(f\"\\tThe character that is the leader in most team is \\\n",
    "{max(g.nodes,key=lambda x: len(nx.get_node_attributes(g,'leader')[x]))}\")\n",
    "print()\n",
    "\n",
    "print(\"The Team player\")\n",
    "print(f\"\\tThe character that belong to more teams is \\\n",
    "{max(g.nodes,key=lambda x: len(nx.get_node_attributes(g,'member')[x]))}\")\n",
    "print()\n",
    "\n",
    "print(\"The Likeable\")\n",
    "print(f\"\\tThe character that is allied to more teams is \\\n",
    "{max(g.nodes,key=lambda x: len(nx.get_node_attributes(g,'ally')[x]))}\")\n",
    "print()\n",
    "\n",
    "print(\"The Confrontational\")\n",
    "print(f\"\\tThe character that is estranged to more teams is \\\n",
    "{max(g.nodes,key=lambda x: len(nx.get_node_attributes(g,'enemy')[x]))}\")\n",
    "\n"
   ]
  },
  {
   "cell_type": "code",
   "execution_count": null,
   "id": "d8d8351c",
   "metadata": {},
   "outputs": [],
   "source": [
    "characters_df[[\"len_leaders\", \"len_members\",\n",
    "               \"len_ally\", \"len_enemy\", \"total_len\"]] = characters_df.progress_apply(lambda x: pd.Series([\n",
    "                                                                  len(x[3]),\n",
    "                                                                  len(x[4]),\n",
    "                                                                  len(x[5]),\n",
    "                                                                  len(x[6]),\n",
    "                                                                  len(list(set(x[3] + x[4] + x[5] + x[6])))\n",
    "                                                                ]),\n",
    "                                                                        axis=1)\n",
    "\n",
    "characters_df.head()"
   ]
  },
  {
   "cell_type": "code",
   "execution_count": null,
   "id": "2d8f50c0",
   "metadata": {},
   "outputs": [],
   "source": [
    "characters_df.sort_values(\"len_leaders\", ascending=False).head()"
   ]
  },
  {
   "cell_type": "code",
   "execution_count": null,
   "id": "73edc357",
   "metadata": {},
   "outputs": [],
   "source": [
    "characters_df.sort_values(\"len_members\", ascending=False).head()"
   ]
  },
  {
   "cell_type": "code",
   "execution_count": null,
   "id": "4fe6cc6f",
   "metadata": {},
   "outputs": [],
   "source": [
    "characters_df.sort_values(\"len_ally\", ascending=False).head()"
   ]
  },
  {
   "cell_type": "code",
   "execution_count": null,
   "id": "5887df60",
   "metadata": {},
   "outputs": [],
   "source": [
    "characters_df.sort_values(\"len_enemy\", ascending=False).head()"
   ]
  },
  {
   "cell_type": "code",
   "execution_count": null,
   "id": "68c575b7",
   "metadata": {},
   "outputs": [],
   "source": [
    "characters_df.sort_values(\"total_len\", ascending=False).head()"
   ]
  },
  {
   "cell_type": "code",
   "execution_count": null,
   "id": "2be10272",
   "metadata": {},
   "outputs": [],
   "source": [
    "characters_df.sort_values(\"number_links\", ascending=False).head()"
   ]
  },
  {
   "cell_type": "code",
   "execution_count": null,
   "id": "67bdf2a3",
   "metadata": {},
   "outputs": [],
   "source": [
    "pd.DataFrame(sorted(g.degree, key=lambda x: x[1], reverse=True), columns=[\"Name\", \"degree\"]).head()"
   ]
  },
  {
   "cell_type": "markdown",
   "id": "b3712e81",
   "metadata": {},
   "source": [
    "## Colors\n",
    "\n",
    "Just colors to paint the graph later"
   ]
  },
  {
   "cell_type": "code",
   "execution_count": null,
   "id": "43bfa0fa",
   "metadata": {},
   "outputs": [],
   "source": [
    "colorPallette = {\n",
    "  \"Avengers\": (235, 73, 49),\n",
    "  \"X-Men\": (46, 93, 188),\n",
    "  \"Illuminati\": (192, 88, 132),\n",
    "  \"Inhuman Royal Guard\": (18, 115, 39),\n",
    "  \"Guardians of the Galaxy\": (18, 91, 115),\n",
    "  \"Avengers (1,000,000 BC)\": (239, 127, 72),\n",
    "  \"Sinister Six\": (70, 89, 67),\n",
    "  \"Thunderbolts\": (172, 169, 41),\n",
    "  \"Elders of the Universe\": (60, 91, 168),\n",
    "  \"Young Avengers\": (250, 172, 158),\n",
    "  \"Dark Avengers\": (117, 31, 16),\n",
    "  \"Fantastic Four\": (44, 159, 253),\n",
    "  \"Strategic Homeland Intervention, Enforcement and Logistics Division\": (32, 57, 158),\n",
    "  \"Defenders\": (251, 226, 40),\n",
    "  \"Hydra\": (71, 137, 70),\n",
    "  \"Black Order\": (48, 50, 61),\n",
    "  \"Cabal (Dark Illuminati)\": (69, 33, 80),\n",
    "  \"Hand\": (80, 77, 33),\n",
    "  \"Heralds of Galactus\": (67, 155, 125),\n",
    "  \"Winter Guard\": (203, 234, 223)\n",
    "}\n",
    "\n",
    "cmap = ListedColormap([(x[0]/255, x[1]/255, x[2]/255) for x in colorPallette.values()])"
   ]
  },
  {
   "cell_type": "markdown",
   "id": "2dad291c",
   "metadata": {},
   "source": [
    "We can get from the graph the Giant Connected Component."
   ]
  },
  {
   "cell_type": "code",
   "execution_count": null,
   "id": "017a0078",
   "metadata": {},
   "outputs": [],
   "source": [
    "gcc = g.subgraph(max(nx.connected_components(g), key=len))\n",
    "\n",
    "print(f\"Number of nodes in the GCC: {len(gcc.nodes)}\\nNumber of links in GCC: {len(gcc.edges)}\")"
   ]
  },
  {
   "cell_type": "code",
   "execution_count": null,
   "id": "280ec395",
   "metadata": {},
   "outputs": [],
   "source": [
    "forceatlas2 = ForceAtlas2(\n",
    "                          # Behavior alternatives\n",
    "                          outboundAttractionDistribution=True,  # Dissuade hubs\n",
    "                          linLogMode=False,  # NOT IMPLEMENTED\n",
    "                          adjustSizes=False,  # Prevent overlap (NOT IMPLEMENTED)\n",
    "                          edgeWeightInfluence=1.0,\n",
    "\n",
    "                          # Performance\n",
    "                          jitterTolerance=1.0,  # Tolerance\n",
    "                          barnesHutOptimize=True,\n",
    "                          barnesHutTheta=1.2,\n",
    "                          multiThreaded=False,  # NOT IMPLEMENTED\n",
    "\n",
    "                          # Tuning\n",
    "                          scalingRatio=2.0,\n",
    "                          strongGravityMode=False,\n",
    "                          gravity=1.0,\n",
    "\n",
    "                          # Log\n",
    "                          verbose=True)\n",
    "positions = forceatlas2.forceatlas2_networkx_layout(gcc, pos=None, iterations=2000)"
   ]
  },
  {
   "cell_type": "code",
   "execution_count": null,
   "id": "3851e1b7",
   "metadata": {},
   "outputs": [],
   "source": [
    "colors = []\n",
    "sizes = []\n",
    "alphas = []\n",
    "max_degree = max(gcc.degree(), key=lambda x: x[1])[1]\n",
    "\n",
    "for node in tqdm(gcc.nodes):\n",
    "  color = np.array([0, 0, 0])\n",
    "  size = gcc.degree(node) * 7 + 3\n",
    "  alpha = max([gcc.degree(node)/max_degree, .2])\n",
    "  \n",
    "  for team in gcc.nodes[node][\"member\"]:\n",
    "    color = color + np.array(colorPallette[team])/len(gcc.nodes[node][\"member\"]) \n",
    "  \n",
    "  colors.append(color/255)\n",
    "  sizes.append(size)\n",
    "  alphas.append(alpha)"
   ]
  },
  {
   "cell_type": "code",
   "execution_count": null,
   "id": "4ee7a427",
   "metadata": {},
   "outputs": [],
   "source": [
    "fig, ax = plt.subplots(figsize=(20, 20))\n",
    "\n",
    "nx.draw_networkx_nodes(gcc,\n",
    "                       positions,\n",
    "                       linewidths  = 1,\n",
    "                       node_size   = sizes,\n",
    "                       node_color  = colors,\n",
    "                       alpha       = alphas,\n",
    "                       ax          = ax\n",
    "                      )\n",
    "\n",
    "nx.draw_networkx_edges(gcc,\n",
    "                       positions,\n",
    "                       edge_color  = \"black\",\n",
    "                       arrowstyle  = \"-\",\n",
    "                       alpha       = 0.1,\n",
    "                       width       = .5,\n",
    "                       ax          = ax\n",
    "                      )  \n",
    "plt.axis(\"off\")\n",
    "\n",
    "plt.show()"
   ]
  },
  {
   "cell_type": "markdown",
   "id": "aa0cd732",
   "metadata": {},
   "source": [
    "## Degree distribution"
   ]
  },
  {
   "cell_type": "code",
   "execution_count": null,
   "id": "bac423a1",
   "metadata": {
    "scrolled": true
   },
   "outputs": [],
   "source": [
    "dg = createGraph(characters_df, directed=True)\n",
    "\n",
    "dgcc = dg.subgraph(max(nx.weakly_connected_components(dg), key=len))"
   ]
  },
  {
   "cell_type": "code",
   "execution_count": null,
   "id": "0ff460ae",
   "metadata": {},
   "outputs": [],
   "source": [
    "fig, ((in_ax, out_ax), (in_ax_bp, out_ax_bp)) = plt.subplots(2, 2, figsize=(20, 15))\n",
    "fig.suptitle(\"Degree distribution\")\n",
    "\n",
    "in_degrees = dict(dgcc.in_degree()).values()\n",
    "out_degrees = dict(dgcc.out_degree()).values()\n",
    "\n",
    "counts, bins, bars = in_ax.hist(in_degrees, bins=50)\n",
    "in_ax.set_title(\"In degree distribution\")\n",
    "in_ax.set_xlabel(\"Degree\")\n",
    "in_ax.set_ylabel(\"Count\")\n",
    "\n",
    "bin_centers = 0.5 * (bins[:-1] + bins[1:])\n",
    "col = bin_centers - min(bin_centers)\n",
    "col /= max(col)\n",
    "col *= 5\n",
    "col %= 1\n",
    "\n",
    "for c, p in zip(col, bars):\n",
    "  plt.setp(p, 'facecolor', cmap(c))\n",
    "\n",
    "counts, bins, bars = out_ax.hist(out_degrees, bins=20)\n",
    "out_ax.set_title(\"Out degree distribution\")\n",
    "out_ax.set_xlabel(\"Degree\")\n",
    "out_ax.set_ylabel(\"Count\")\n",
    "\n",
    "bin_centers = 0.5 * (bins[:-1] + bins[1:])\n",
    "col = bin_centers - min(bin_centers)\n",
    "col /= max(col)\n",
    "col *= 2\n",
    "col %= 1\n",
    "\n",
    "\n",
    "for c, p in zip(col, bars):\n",
    "  plt.setp(p, 'facecolor', cmap(c))\n",
    "\n",
    "in_ax_bp.boxplot(in_degrees, vert=False, labels=[\"In degree\"])\n",
    "in_ax_bp.set_title(\"Box plot of the In Degree\")\n",
    "in_ax_bp.set_xlabel(\"Degree\")\n",
    "\n",
    "out_ax_bp.boxplot(out_degrees, vert=False, labels=[\"Out degree\"])\n",
    "out_ax_bp.set_title(\"Box plot of the Out Degree\")\n",
    "out_ax_bp.set_xlabel(\"Degree\")\n",
    "\n",
    "plt.show()"
   ]
  },
  {
   "cell_type": "code",
   "execution_count": null,
   "id": "05941369",
   "metadata": {},
   "outputs": [],
   "source": [
    "fig, (hist_ax, bp_ax) = plt.subplots(2, 1, figsize=(10, 15))\n",
    "\n",
    "\n",
    "degrees = dict(dgcc.degree()).values()\n",
    "\n",
    "counts, bins, bars = hist_ax.hist(degrees, bins=50)\n",
    "hist_ax.set_title(\"Total Degree distribution\")\n",
    "hist_ax.set_xlabel(\"Degree\")\n",
    "hist_ax.set_ylabel(\"Count\")\n",
    "\n",
    "bin_centers = 0.5 * (bins[:-1] + bins[1:])\n",
    "col = bin_centers - min(bin_centers)\n",
    "col /= max(col)\n",
    "col *= 5\n",
    "col %= 1\n",
    "\n",
    "for c, p in zip(col, bars):\n",
    "  plt.setp(p, 'facecolor', cmap(c))\n",
    "  \n",
    "bp_ax.boxplot(degrees, vert=False, labels=[\"Total Degree\"])\n",
    "bp_ax.set_title(\"Box plot of the Total Degree\")\n",
    "bp_ax.set_xlabel(\"Degree\")\n",
    "\n",
    "plt.show()"
   ]
  },
  {
   "cell_type": "markdown",
   "id": "8d2bc1df",
   "metadata": {},
   "source": [
    "Some stats are repeated here, but now is using the DGCC (Directed Giant Connected Component)"
   ]
  },
  {
   "cell_type": "code",
   "execution_count": null,
   "id": "82d087b0",
   "metadata": {},
   "outputs": [],
   "source": [
    "print(f\"Number of nodes in network: \\t {dgcc.number_of_nodes()}\")\n",
    "print(f\"Number of links🔗: \\t\\t {dgcc.number_of_edges()}\")\n",
    "\n",
    "sorted_in  = sorted(dgcc.nodes, key=dgcc.in_degree, reverse=True)\n",
    "sorted_out = sorted(dgcc.nodes, key=dgcc.out_degree, reverse=True)\n",
    "sorted_tot = sorted(dgcc.nodes, key=dgcc.degree, reverse=True)\n",
    "\n",
    "print(f\"Most connected in:\\t {sorted_in[0]}\\n\\tin👈:\\t{dgcc.in_degree(sorted_in[0])}\\n\\tout👉:\\t{dgcc.out_degree(sorted_in[0])}\")\n",
    "print(f\"Most connected out:\\t {sorted_out[0]}\\n\\tin👈:\\t{dgcc.in_degree(sorted_out[0])}\\n\\tout👉:\\t{dgcc.out_degree(sorted_out[0])}\")\n",
    "print(f\"Most connected overall:\\t {sorted_tot[0]}\\n\\tin👈:\\t{dgcc.in_degree(sorted_tot[0])}\\n\\tout👉:\\t{dgcc.out_degree(sorted_tot[0])}\")"
   ]
  }
 ],
 "metadata": {
  "interpreter": {
   "hash": "3405df15e4953545831bbb8174ce89dd7632c146c43537a8990c777f42b240d0"
  },
  "kernelspec": {
   "display_name": "Python 3 (ipykernel)",
   "language": "python",
   "name": "python3"
  },
  "language_info": {
   "codemirror_mode": {
    "name": "ipython",
    "version": 3
   },
   "file_extension": ".py",
   "mimetype": "text/x-python",
   "name": "python",
   "nbconvert_exporter": "python",
   "pygments_lexer": "ipython3",
   "version": "3.9.7"
  }
 },
 "nbformat": 4,
 "nbformat_minor": 5
}
