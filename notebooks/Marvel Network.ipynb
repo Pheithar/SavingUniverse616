{
 "cells": [
  {
   "cell_type": "markdown",
   "source": [
    "# Marvel Network\n",
    "\n",
    "Now that we have a clean dataset, we can actually build the network."
   ],
   "metadata": {}
  },
  {
   "cell_type": "code",
   "execution_count": null,
   "source": [
    "import pandas as pd\r\n",
    "import numpy as np\r\n",
    "\r\n",
    "import networkx as nx\r\n",
    "\r\n",
    "import matplotlib.pyplot as plt\r\n",
    "from matplotlib.colors import ListedColormap\r\n",
    "\r\n",
    "from tqdm.notebook import tqdm\r\n",
    "\r\n",
    "import ast\r\n",
    "\r\n",
    "from fa2 import ForceAtlas2"
   ],
   "outputs": [],
   "metadata": {}
  },
  {
   "cell_type": "code",
   "execution_count": null,
   "source": [
    "tqdm.pandas()"
   ],
   "outputs": [],
   "metadata": {}
  },
  {
   "cell_type": "code",
   "execution_count": null,
   "source": [
    "characters_df = pd.read_csv(\"../data/marvel_characters.csv\")\r\n",
    "\r\n",
    "characters_df[\"links\"] = characters_df[\"links\"].progress_apply(ast.literal_eval)\r\n",
    "characters_df[\"leader\"] = characters_df[\"leader\"].progress_apply(ast.literal_eval)\r\n",
    "characters_df[\"member\"] = characters_df[\"member\"].progress_apply(ast.literal_eval)\r\n",
    "characters_df[\"ally\"] = characters_df[\"ally\"].progress_apply(ast.literal_eval)\r\n",
    "characters_df[\"enemy\"] = characters_df[\"enemy\"].progress_apply(ast.literal_eval)\r\n",
    "\r\n",
    "characters_df"
   ],
   "outputs": [],
   "metadata": {}
  },
  {
   "cell_type": "code",
   "execution_count": null,
   "source": [
    "def connect_node(row, g):\n",
    "  g.add_node(row[\"name\"], leader=row[\"leader\"], member=row[\"member\"], ally=row[\"ally\"], enemy=row[\"enemy\"])\n",
    "  \n",
    "  for link in row[\"links\"]:\n",
    "    g.add_edge(row[\"name\"], link)\n",
    "\n",
    "def createGraph(df, directed=False):\n",
    "  \n",
    "  g = nx.Graph()\n",
    "  \n",
    "  if directed:\n",
    "    g = nx.DiGraph()\n",
    "\n",
    "  _ = df.progress_apply(connect_node, g=g, axis=1)\n",
    "    \n",
    "  return g"
   ],
   "outputs": [],
   "metadata": {}
  },
  {
   "cell_type": "code",
   "execution_count": null,
   "source": [
    "g = createGraph(characters_df)"
   ],
   "outputs": [],
   "metadata": {}
  },
  {
   "cell_type": "markdown",
   "source": [
    "Now that we have a preliminar node, we can try to see the degree distribution, number of nodes and edges, to try to start understanding the graph."
   ],
   "metadata": {}
  },
  {
   "cell_type": "code",
   "execution_count": null,
   "source": [
    "print(\"Graph basic stats:\")\n",
    "print(f\"\\tNumber of nodes: {len(g.nodes)}\")\n",
    "print(f\"\\tNumber of edges: {len(g.edges)}\")\n",
    "print(f\"\\tAverage degree: {sum(x[1] for x in g.degree)/len(g.degree):.2f}\")\n",
    "print()\n",
    "print(f\"\\tMost connected node: {max(g.degree, key=lambda x: x[1])[0]} \\\n",
    "with a degree of {max(g.degree, key=lambda x: x[1])[1]}\")"
   ],
   "outputs": [],
   "metadata": {}
  },
  {
   "cell_type": "markdown",
   "source": [
    "Another relevant information that can be easily obtained is the top 5 characters with the bigger number of links in their wiki page"
   ],
   "metadata": {}
  },
  {
   "cell_type": "code",
   "execution_count": null,
   "source": [
    "characters_df.sort_values(by=[\"number_links\"], ascending=False).head()"
   ],
   "outputs": [],
   "metadata": {}
  },
  {
   "cell_type": "markdown",
   "source": [
    "We can display information about the teams too."
   ],
   "metadata": {}
  },
  {
   "cell_type": "code",
   "execution_count": null,
   "source": [
    "print(\"The Leader:\")\n",
    "print(f\"\\tThe character that is the leader in most team is \\\n",
    "{max(g.nodes,key=lambda x: len(nx.get_node_attributes(g,'leader')[x]))}\")\n",
    "print()\n",
    "\n",
    "print(\"The Team player\")\n",
    "print(f\"\\tThe character that belong to more teams is \\\n",
    "{max(g.nodes,key=lambda x: len(nx.get_node_attributes(g,'member')[x]))}\")\n",
    "print()\n",
    "\n",
    "print(\"The Likeable\")\n",
    "print(f\"\\tThe character that is allied to more teams is \\\n",
    "{max(g.nodes,key=lambda x: len(nx.get_node_attributes(g,'ally')[x]))}\")\n",
    "print()\n",
    "\n",
    "print(\"The Confrontational\")\n",
    "print(f\"\\tThe character that is estranged to more teams is \\\n",
    "{max(g.nodes,key=lambda x: len(nx.get_node_attributes(g,'enemy')[x]))}\")\n",
    "\n"
   ],
   "outputs": [],
   "metadata": {}
  },
  {
   "cell_type": "code",
   "execution_count": null,
   "source": [
    "characters_df[[\"len_leaders\", \"len_members\",\n",
    "               \"len_ally\", \"len_enemy\", \"total_len\"]] = characters_df.progress_apply(lambda x: pd.Series([\n",
    "                                                                  len(x[3]),\n",
    "                                                                  len(x[4]),\n",
    "                                                                  len(x[5]),\n",
    "                                                                  len(x[6]),\n",
    "                                                                  len(list(set(x[3] + x[4] + x[5] + x[6])))\n",
    "                                                                ]),\n",
    "                                                                        axis=1)\n",
    "\n",
    "characters_df.head()"
   ],
   "outputs": [],
   "metadata": {}
  },
  {
   "cell_type": "code",
   "execution_count": null,
   "source": [
    "characters_df.sort_values(\"len_leaders\", ascending=False).head()"
   ],
   "outputs": [],
   "metadata": {}
  },
  {
   "cell_type": "code",
   "execution_count": null,
   "source": [
    "characters_df.sort_values(\"len_members\", ascending=False).head()"
   ],
   "outputs": [],
   "metadata": {}
  },
  {
   "cell_type": "code",
   "execution_count": null,
   "source": [
    "characters_df.sort_values(\"len_ally\", ascending=False).head()"
   ],
   "outputs": [],
   "metadata": {}
  },
  {
   "cell_type": "code",
   "execution_count": null,
   "source": [
    "characters_df.sort_values(\"len_enemy\", ascending=False).head()"
   ],
   "outputs": [],
   "metadata": {}
  },
  {
   "cell_type": "code",
   "execution_count": null,
   "source": [
    "characters_df.sort_values(\"total_len\", ascending=False).head()"
   ],
   "outputs": [],
   "metadata": {}
  },
  {
   "cell_type": "code",
   "execution_count": null,
   "source": [
    "characters_df.sort_values(\"number_links\", ascending=False).head()"
   ],
   "outputs": [],
   "metadata": {}
  },
  {
   "cell_type": "code",
   "execution_count": null,
   "source": [
    "pd.DataFrame(sorted(g.degree, key=lambda x: x[1], reverse=True), columns=[\"Name\", \"degree\"]).head()"
   ],
   "outputs": [],
   "metadata": {}
  },
  {
   "cell_type": "markdown",
   "source": [
    "## Colors\n",
    "\n",
    "Just colors to paint the graph later"
   ],
   "metadata": {}
  },
  {
   "cell_type": "code",
   "execution_count": null,
   "source": [
    "colorPallette = {\n",
    "  \"Avengers\": (235, 73, 49),\n",
    "  \"X-Men\": (46, 93, 188),\n",
    "  \"Illuminati\": (192, 88, 132),\n",
    "  \"Inhuman Royal Guard\": (18, 115, 39),\n",
    "  \"Guardians of the Galaxy\": (18, 91, 115),\n",
    "  \"Avengers (1,000,000 BC)\": (239, 127, 72),\n",
    "  \"Sinister Six\": (70, 89, 67),\n",
    "  \"Thunderbolts\": (172, 169, 41),\n",
    "  \"Elders of the Universe\": (60, 91, 168),\n",
    "  \"Young Avengers\": (250, 172, 158),\n",
    "  \"Dark Avengers\": (117, 31, 16),\n",
    "  \"Fantastic Four\": (44, 159, 253),\n",
    "  \"Strategic Homeland Intervention, Enforcement and Logistics Division\": (32, 57, 158),\n",
    "  \"Defenders\": (251, 226, 40),\n",
    "  \"Hydra\": (71, 137, 70),\n",
    "  \"Black Order\": (48, 50, 61),\n",
    "  \"Cabal (Dark Illuminati)\": (69, 33, 80),\n",
    "  \"Hand\": (80, 77, 33),\n",
    "  \"Heralds of Galactus\": (67, 155, 125),\n",
    "  \"Winter Guard\": (203, 234, 223)\n",
    "}\n",
    "\n",
    "cmap = ListedColormap([(x[0]/255, x[1]/255, x[2]/255) for x in colorPallette.values()])"
   ],
   "outputs": [],
   "metadata": {}
  },
  {
   "cell_type": "markdown",
   "source": [
    "We can get from the graph the Giant Connected Component."
   ],
   "metadata": {}
  },
  {
   "cell_type": "code",
   "execution_count": null,
   "source": [
    "gcc = g.subgraph(max(nx.connected_components(g), key=len))\n",
    "\n",
    "print(f\"Number of nodes in the GCC: {len(gcc.nodes)}\\nNumber of links in GCC: {len(gcc.edges)}\")"
   ],
   "outputs": [],
   "metadata": {}
  },
  {
   "cell_type": "code",
   "execution_count": null,
   "source": [
    "forceatlas2 = ForceAtlas2(\n",
    "                          # Behavior alternatives\n",
    "                          outboundAttractionDistribution=True,  # Dissuade hubs\n",
    "                          linLogMode=False,  # NOT IMPLEMENTED\n",
    "                          adjustSizes=False,  # Prevent overlap (NOT IMPLEMENTED)\n",
    "                          edgeWeightInfluence=1.0,\n",
    "\n",
    "                          # Performance\n",
    "                          jitterTolerance=1.0,  # Tolerance\n",
    "                          barnesHutOptimize=True,\n",
    "                          barnesHutTheta=1.2,\n",
    "                          multiThreaded=False,  # NOT IMPLEMENTED\n",
    "\n",
    "                          # Tuning\n",
    "                          scalingRatio=2.0,\n",
    "                          strongGravityMode=False,\n",
    "                          gravity=1.0,\n",
    "\n",
    "                          # Log\n",
    "                          verbose=True)\n",
    "positions = forceatlas2.forceatlas2_networkx_layout(gcc, pos=None, iterations=2000)"
   ],
   "outputs": [],
   "metadata": {}
  },
  {
   "cell_type": "code",
   "execution_count": null,
   "source": [
    "colors = []\n",
    "sizes = []\n",
    "alphas = []\n",
    "max_degree = max(gcc.degree(), key=lambda x: x[1])[1]\n",
    "\n",
    "for node in tqdm(gcc.nodes):\n",
    "  color = np.array([0, 0, 0])\n",
    "  size = gcc.degree(node) * 7 + 3\n",
    "  alpha = max([gcc.degree(node)/max_degree, .2])\n",
    "  \n",
    "  for team in gcc.nodes[node][\"member\"]:\n",
    "    color = color + np.array(colorPallette[team])/len(gcc.nodes[node][\"member\"]) \n",
    "  \n",
    "  colors.append(color/255)\n",
    "  sizes.append(size)\n",
    "  alphas.append(alpha)"
   ],
   "outputs": [],
   "metadata": {}
  },
  {
   "cell_type": "code",
   "execution_count": null,
   "source": [
    "fig, ax = plt.subplots(figsize=(20, 20))\n",
    "\n",
    "nx.draw_networkx_nodes(gcc,\n",
    "                       positions,\n",
    "                       linewidths  = 1,\n",
    "                       node_size   = sizes,\n",
    "                       node_color  = colors,\n",
    "                       alpha       = alphas,\n",
    "                       ax          = ax\n",
    "                      )\n",
    "\n",
    "nx.draw_networkx_edges(gcc,\n",
    "                       positions,\n",
    "                       edge_color  = \"black\",\n",
    "                       arrowstyle  = \"-\",\n",
    "                       alpha       = 0.1,\n",
    "                       width       = .5,\n",
    "                       ax          = ax\n",
    "                      )  \n",
    "plt.axis(\"off\")\n",
    "\n",
    "plt.show()"
   ],
   "outputs": [],
   "metadata": {}
  },
  {
   "cell_type": "markdown",
   "source": [
    "## Degree distribution"
   ],
   "metadata": {}
  },
  {
   "cell_type": "code",
   "execution_count": null,
   "source": [
    "dg = createGraph(characters_df, directed=True)\n",
    "\n",
    "dgcc = dg.subgraph(max(nx.weakly_connected_components(dg), key=len))"
   ],
   "outputs": [],
   "metadata": {
    "scrolled": true
   }
  },
  {
   "cell_type": "code",
   "execution_count": null,
   "source": [
    "fig, ((in_ax, out_ax), (in_ax_bp, out_ax_bp)) = plt.subplots(2, 2, figsize=(20, 15))\n",
    "fig.suptitle(\"Degree distribution\")\n",
    "\n",
    "in_degrees = dict(dgcc.in_degree()).values()\n",
    "out_degrees = dict(dgcc.out_degree()).values()\n",
    "\n",
    "counts, bins, bars = in_ax.hist(in_degrees, bins=50)\n",
    "in_ax.set_title(\"In degree distribution\")\n",
    "in_ax.set_xlabel(\"Degree\")\n",
    "in_ax.set_ylabel(\"Count\")\n",
    "\n",
    "bin_centers = 0.5 * (bins[:-1] + bins[1:])\n",
    "col = bin_centers - min(bin_centers)\n",
    "col /= max(col)\n",
    "col *= 5\n",
    "col %= 1\n",
    "\n",
    "for c, p in zip(col, bars):\n",
    "  plt.setp(p, 'facecolor', cmap(c))\n",
    "\n",
    "counts, bins, bars = out_ax.hist(out_degrees, bins=20)\n",
    "out_ax.set_title(\"Out degree distribution\")\n",
    "out_ax.set_xlabel(\"Degree\")\n",
    "out_ax.set_ylabel(\"Count\")\n",
    "\n",
    "bin_centers = 0.5 * (bins[:-1] + bins[1:])\n",
    "col = bin_centers - min(bin_centers)\n",
    "col /= max(col)\n",
    "col *= 2\n",
    "col %= 1\n",
    "\n",
    "\n",
    "for c, p in zip(col, bars):\n",
    "  plt.setp(p, 'facecolor', cmap(c))\n",
    "\n",
    "in_ax_bp.boxplot(in_degrees, vert=False, labels=[\"In degree\"])\n",
    "in_ax_bp.set_title(\"Box plot of the In Degree\")\n",
    "in_ax_bp.set_xlabel(\"Degree\")\n",
    "\n",
    "out_ax_bp.boxplot(out_degrees, vert=False, labels=[\"Out degree\"])\n",
    "out_ax_bp.set_title(\"Box plot of the Out Degree\")\n",
    "out_ax_bp.set_xlabel(\"Degree\")\n",
    "\n",
    "plt.show()"
   ],
   "outputs": [],
   "metadata": {}
  },
  {
   "cell_type": "code",
   "execution_count": null,
   "source": [
    "fig, (hist_ax, bp_ax) = plt.subplots(2, 1, figsize=(10, 15))\n",
    "\n",
    "\n",
    "degrees = dict(dgcc.degree()).values()\n",
    "\n",
    "counts, bins, bars = hist_ax.hist(degrees, bins=50)\n",
    "hist_ax.set_title(\"Total Degree distribution\")\n",
    "hist_ax.set_xlabel(\"Degree\")\n",
    "hist_ax.set_ylabel(\"Count\")\n",
    "\n",
    "bin_centers = 0.5 * (bins[:-1] + bins[1:])\n",
    "col = bin_centers - min(bin_centers)\n",
    "col /= max(col)\n",
    "col *= 5\n",
    "col %= 1\n",
    "\n",
    "for c, p in zip(col, bars):\n",
    "  plt.setp(p, 'facecolor', cmap(c))\n",
    "  \n",
    "bp_ax.boxplot(degrees, vert=False, labels=[\"Total Degree\"])\n",
    "bp_ax.set_title(\"Box plot of the Total Degree\")\n",
    "bp_ax.set_xlabel(\"Degree\")\n",
    "\n",
    "plt.show()"
   ],
   "outputs": [],
   "metadata": {}
  },
  {
   "cell_type": "markdown",
   "source": [
    "Some stats are repeated here, but now is using the DGCC (Directed Giant Connected Component)"
   ],
   "metadata": {}
  },
  {
   "cell_type": "code",
   "execution_count": null,
   "source": [
    "print(f\"Number of nodes in network: \\t {dgcc.number_of_nodes()}\")\n",
    "print(f\"Number of links🔗: \\t\\t {dgcc.number_of_edges()}\")\n",
    "\n",
    "sorted_in  = sorted(dgcc.nodes, key=dgcc.in_degree, reverse=True)\n",
    "sorted_out = sorted(dgcc.nodes, key=dgcc.out_degree, reverse=True)\n",
    "sorted_tot = sorted(dgcc.nodes, key=dgcc.degree, reverse=True)\n",
    "\n",
    "print(f\"Most connected in:\\t {sorted_in[0]}\\n\\tin👈:\\t{dgcc.in_degree(sorted_in[0])}\\n\\tout👉:\\t{dgcc.out_degree(sorted_in[0])}\")\n",
    "print(f\"Most connected out:\\t {sorted_out[0]}\\n\\tin👈:\\t{dgcc.in_degree(sorted_out[0])}\\n\\tout👉:\\t{dgcc.out_degree(sorted_out[0])}\")\n",
    "print(f\"Most connected overall:\\t {sorted_tot[0]}\\n\\tin👈:\\t{dgcc.in_degree(sorted_tot[0])}\\n\\tout👉:\\t{dgcc.out_degree(sorted_tot[0])}\")"
   ],
   "outputs": [],
   "metadata": {}
  }
 ],
 "metadata": {
  "interpreter": {
   "hash": "8506575580bf2c4cdf5283b234470f5904dd155f436b1a601ec65be85c4bd581"
  },
  "kernelspec": {
   "name": "python3",
   "display_name": "Python 3.9.7 64-bit ('venv': venv)"
  },
  "language_info": {
   "codemirror_mode": {
    "name": "ipython",
    "version": 3
   },
   "file_extension": ".py",
   "mimetype": "text/x-python",
   "name": "python",
   "nbconvert_exporter": "python",
   "pygments_lexer": "ipython3",
   "version": "3.9.7"
  }
 },
 "nbformat": 4,
 "nbformat_minor": 5
}