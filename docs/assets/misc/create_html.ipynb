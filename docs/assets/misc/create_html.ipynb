{
 "cells": [
  {
   "cell_type": "code",
   "execution_count": 2,
   "metadata": {},
   "outputs": [],
   "source": [
    "import os"
   ]
  },
  {
   "cell_type": "code",
   "execution_count": 12,
   "metadata": {},
   "outputs": [
    {
     "data": {
      "text/plain": [
       "'\\n        <div class=\"category__data\">\\n            <img src=\"assets/img/wordclouds/50-State Initiative (Earth-616).png\" alt=\"\" class=\"category__img\">\\n            <h3 class=\"catagory__title\">50-State Initiative</h3>\\n            <p class=\"catagory__description\">50-State Initiative </p>\\n        </div>\\n\\n    \\n\\n        <div class=\"category__data\">\\n            <img src=\"assets/img/wordclouds/Avengers (Earth-616).png\" alt=\"\" class=\"category__img\">\\n            <h3 class=\"catagory__title\">Avengers</h3>\\n            <p class=\"catagory__description\">50-State Initiative </p>\\n        </div>\\n\\n    \\n\\n        <div class=\"category__data\">\\n            <img src=\"assets/img/wordclouds/Avengers (Heroes Reborn) (Earth-616).png\" alt=\"\" class=\"category__img\">\\n            <h3 class=\"catagory__title\">Avengers (Heroes Reborn)</h3>\\n            <p class=\"catagory__description\">50-State Initiative </p>\\n        </div>\\n\\n    \\n\\n        <div class=\"category__data\">\\n            <img src=\"assets/img/wordclouds/Avengers Unity Division (Earth-616).png\" alt=\"\" class=\"category__img\">\\n            <h3 class=\"catagory__title\">Avengers Unity Division</h3>\\n            <p class=\"catagory__description\">50-State Initiative </p>\\n        </div>\\n\\n    \\n\\n        <div class=\"category__data\">\\n            <img src=\"assets/img/wordclouds/Defenders (Earth-616).png\" alt=\"\" class=\"category__img\">\\n            <h3 class=\"catagory__title\">Defenders</h3>\\n            <p class=\"catagory__description\">50-State Initiative </p>\\n        </div>\\n\\n    \\n\\n        <div class=\"category__data\">\\n            <img src=\"assets/img/wordclouds/Fantastic Four (Earth-616).png\" alt=\"\" class=\"category__img\">\\n            <h3 class=\"catagory__title\">Fantastic Four</h3>\\n            <p class=\"catagory__description\">50-State Initiative </p>\\n        </div>\\n\\n    \\n\\n        <div class=\"category__data\">\\n            <img src=\"assets/img/wordclouds/Future Foundation (Earth-616).png\" alt=\"\" class=\"category__img\">\\n            <h3 class=\"catagory__title\">Future Foundation</h3>\\n            <p class=\"catagory__description\">50-State Initiative </p>\\n        </div>\\n\\n    \\n\\n        <div class=\"category__data\">\\n            <img src=\"assets/img/wordclouds/Guardians of the Galaxy (Earth-616).png\" alt=\"\" class=\"category__img\">\\n            <h3 class=\"catagory__title\">Guardians of the Galaxy</h3>\\n            <p class=\"catagory__description\">50-State Initiative </p>\\n        </div>\\n\\n    \\n\\n        <div class=\"category__data\">\\n            <img src=\"assets/img/wordclouds/Heroes for Hire (Knight & Wing) (Earth-616).png\" alt=\"\" class=\"category__img\">\\n            <h3 class=\"catagory__title\">Heroes for Hire (Knight & Wing)</h3>\\n            <p class=\"catagory__description\">50-State Initiative </p>\\n        </div>\\n\\n    \\n\\n        <div class=\"category__data\">\\n            <img src=\"assets/img/wordclouds/Hive (Symbiotes) (Earth-616).png\" alt=\"\" class=\"category__img\">\\n            <h3 class=\"catagory__title\">Hive (Symbiotes)</h3>\\n            <p class=\"catagory__description\">50-State Initiative </p>\\n        </div>\\n\\n    \\n\\n        <div class=\"category__data\">\\n            <img src=\"assets/img/wordclouds/Illuminati (Earth-616).png\" alt=\"\" class=\"category__img\">\\n            <h3 class=\"catagory__title\">Illuminati</h3>\\n            <p class=\"catagory__description\">50-State Initiative </p>\\n        </div>\\n\\n    \\n\\n        <div class=\"category__data\">\\n            <img src=\"assets/img/wordclouds/Marvel Knights (Earth-616).png\" alt=\"\" class=\"category__img\">\\n            <h3 class=\"catagory__title\">Marvel Knights</h3>\\n            <p class=\"catagory__description\">50-State Initiative </p>\\n        </div>\\n\\n    \\n\\n        <div class=\"category__data\">\\n            <img src=\"assets/img/wordclouds/Mighty (Earth-616).png\" alt=\"\" class=\"category__img\">\\n            <h3 class=\"catagory__title\">Mighty</h3>\\n            <p class=\"catagory__description\">50-State Initiative </p>\\n        </div>\\n\\n    \\n\\n        <div class=\"category__data\">\\n            <img src=\"assets/img/wordclouds/New Avengers (Earth-616).png\" alt=\"\" class=\"category__img\">\\n            <h3 class=\"catagory__title\">New Avengers</h3>\\n            <p class=\"catagory__description\">50-State Initiative </p>\\n        </div>\\n\\n    \\n\\n        <div class=\"category__data\">\\n            <img src=\"assets/img/wordclouds/Secret Avengers (Civil War) (Earth-616).png\" alt=\"\" class=\"category__img\">\\n            <h3 class=\"catagory__title\">Secret Avengers (Civil War)</h3>\\n            <p class=\"catagory__description\">50-State Initiative </p>\\n        </div>\\n\\n    \\n\\n        <div class=\"category__data\">\\n            <img src=\"assets/img/wordclouds/Secret Defenders (Earth-616).png\" alt=\"\" class=\"category__img\">\\n            <h3 class=\"catagory__title\">Secret Defenders</h3>\\n            <p class=\"catagory__description\">50-State Initiative </p>\\n        </div>\\n\\n    \\n\\n        <div class=\"category__data\">\\n            <img src=\"assets/img/wordclouds/Strategic Homeland Intervention, Enforcement and Logistics Division (Earth-616).png\" alt=\"\" class=\"category__img\">\\n            <h3 class=\"catagory__title\">Strategic Homeland Intervention, Enforcement and Logistics Division</h3>\\n            <p class=\"catagory__description\">50-State Initiative </p>\\n        </div>\\n\\n    \\n\\n        <div class=\"category__data\">\\n            <img src=\"assets/img/wordclouds/United States Army (Earth-616).png\" alt=\"\" class=\"category__img\">\\n            <h3 class=\"catagory__title\">United States Army</h3>\\n            <p class=\"catagory__description\">50-State Initiative </p>\\n        </div>\\n\\n    \\n\\n        <div class=\"category__data\">\\n            <img src=\"assets/img/wordclouds/X-Force (Strike Team) (Earth-616).png\" alt=\"\" class=\"category__img\">\\n            <h3 class=\"catagory__title\">X-Force (Strike Team)</h3>\\n            <p class=\"catagory__description\">50-State Initiative </p>\\n        </div>\\n\\n    \\n\\n        <div class=\"category__data\">\\n            <img src=\"assets/img/wordclouds/X-Men (Earth-616).png\" alt=\"\" class=\"category__img\">\\n            <h3 class=\"catagory__title\">X-Men</h3>\\n            <p class=\"catagory__description\">50-State Initiative </p>\\n        </div>\\n\\n    '"
      ]
     },
     "execution_count": 12,
     "metadata": {},
     "output_type": "execute_result"
    }
   ],
   "source": [
    "names = os.listdir(\"../img/wordclouds\")\r\n",
    "htmls = []\r\n",
    "for name in names:\r\n",
    "    txt = f\"\"\"\r\n",
    "        <div class=\"category__data\">\r\n",
    "            <img src=\"assets/img/wordclouds/{name}\" alt=\"\" class=\"category__img\">\r\n",
    "            <h3 class=\"catagory__title\">{name.replace(\" (Earth-616)\", \"\").replace(\".png\", \"\")}</h3>\r\n",
    "            <p class=\"catagory__description\">50-State Initiative </p>\r\n",
    "        </div>\r\n",
    "\r\n",
    "    \"\"\"\r\n",
    "    htmls.append(txt)\r\n",
    "\r\n",
    "\"\\n\".join(htmls)"
   ]
  },
  {
   "cell_type": "code",
   "execution_count": null,
   "metadata": {},
   "outputs": [],
   "source": []
  }
 ],
 "metadata": {
  "interpreter": {
   "hash": "3405df15e4953545831bbb8174ce89dd7632c146c43537a8990c777f42b240d0"
  },
  "kernelspec": {
   "display_name": "Python 3.9.1 64-bit ('venv')",
   "name": "python3"
  },
  "language_info": {
   "codemirror_mode": {
    "name": "ipython",
    "version": 3
   },
   "file_extension": ".py",
   "mimetype": "text/x-python",
   "name": "python",
   "nbconvert_exporter": "python",
   "pygments_lexer": "ipython3",
   "version": "3.9.1"
  },
  "orig_nbformat": 4
 },
 "nbformat": 4,
 "nbformat_minor": 2
}